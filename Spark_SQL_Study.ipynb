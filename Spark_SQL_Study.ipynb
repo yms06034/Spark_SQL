{
 "cells": [
  {
   "cell_type": "code",
   "execution_count": 1,
   "id": "a862d7ef",
   "metadata": {},
   "outputs": [
    {
     "name": "stderr",
     "output_type": "stream",
     "text": [
      "23/03/24 11:25:03 WARN Utils: Your hostname, DESKTOP-IV4R8HD resolves to a loopback address: 127.0.1.1; using 192.168.62.80 instead (on interface eth0)\n",
      "23/03/24 11:25:03 WARN Utils: Set SPARK_LOCAL_IP if you need to bind to another address\n",
      "23/03/24 11:25:06 WARN NativeCodeLoader: Unable to load native-hadoop library for your platform... using builtin-java classes where applicable\n",
      "Using Spark's default log4j profile: org/apache/spark/log4j-defaults.properties\n",
      "Setting default log level to \"WARN\".\n",
      "To adjust logging level use sc.setLogLevel(newLevel). For SparkR, use setLogLevel(newLevel).\n"
     ]
    }
   ],
   "source": [
    "import warnings\n",
    "warnings.filterwarnings(action='ignore')\n",
    "\n",
    "from pyspark.sql import SparkSession\n",
    "\n",
    "spark = SparkSession.builder \\\n",
    "           .appName('spark_sql_study') \\\n",
    "           .config(\"spark.jars\", \"/home/yms06034/spark/spark3/mysql-connector-java-8.0.29.jar\") \\\n",
    "           .getOrCreate()"
   ]
  },
  {
   "cell_type": "code",
   "execution_count": 2,
   "id": "c67fdaa6",
   "metadata": {},
   "outputs": [
    {
     "data": {
      "text/html": [
       "\n",
       "            <div>\n",
       "                <p><b>SparkSession - in-memory</b></p>\n",
       "                \n",
       "        <div>\n",
       "            <p><b>SparkContext</b></p>\n",
       "\n",
       "            <p><a href=\"http://192.168.62.80:4040\">Spark UI</a></p>\n",
       "\n",
       "            <dl>\n",
       "              <dt>Version</dt>\n",
       "                <dd><code>v3.2.3</code></dd>\n",
       "              <dt>Master</dt>\n",
       "                <dd><code>local[3]</code></dd>\n",
       "              <dt>AppName</dt>\n",
       "                <dd><code>spark_sql_study</code></dd>\n",
       "            </dl>\n",
       "        </div>\n",
       "        \n",
       "            </div>\n",
       "        "
      ],
      "text/plain": [
       "<pyspark.sql.session.SparkSession at 0x7f8bdd517910>"
      ]
     },
     "execution_count": 2,
     "metadata": {},
     "output_type": "execute_result"
    }
   ],
   "source": [
    "spark"
   ]
  },
  {
   "cell_type": "code",
   "execution_count": 3,
   "id": "e9ea7981",
   "metadata": {},
   "outputs": [
    {
     "name": "stderr",
     "output_type": "stream",
     "text": [
      "Loading class `com.mysql.jdbc.Driver'. This is deprecated. The new driver class is `com.mysql.cj.jdbc.Driver'. The driver is automatically registered via the SPI and manual loading of the driver class is generally unnecessary.\n"
     ]
    }
   ],
   "source": [
    "customers = spark.read.format(\"jdbc\").option(\"url\", \"jdbc:mysql://localhost:3306/spark_db\") \\\n",
    "    .option(\"driver\", \"com.mysql.jdbc.Driver\").option(\"dbtable\", \"customers\") \\\n",
    "    .option(\"user\", \"root\").option(\"password\", \"\").load()\n",
    "\n",
    "geolocation = spark.read.format(\"jdbc\").option(\"url\", \"jdbc:mysql://localhost:3306/spark_db\") \\\n",
    "    .option(\"driver\", \"com.mysql.jdbc.Driver\").option(\"dbtable\", \"geolocation\") \\\n",
    "    .option(\"user\", \"root\").option(\"password\", \"\").load()\n",
    "\n",
    "order_items = spark.read.format(\"jdbc\").option(\"url\", \"jdbc:mysql://localhost:3306/spark_db\") \\\n",
    "    .option(\"driver\", \"com.mysql.jdbc.Driver\").option(\"dbtable\", \"order_items\") \\\n",
    "    .option(\"user\", \"root\").option(\"password\", \"\").load()\n",
    "\n",
    "order_payments = spark.read.format(\"jdbc\").option(\"url\", \"jdbc:mysql://localhost:3306/spark_db\") \\\n",
    "    .option(\"driver\", \"com.mysql.jdbc.Driver\").option(\"dbtable\", \"order_payments\") \\\n",
    "    .option(\"user\", \"root\").option(\"password\", \"\").load()\n",
    "\n",
    "order_reviews = spark.read.format(\"jdbc\").option(\"url\", \"jdbc:mysql://localhost:3306/spark_db\") \\\n",
    "    .option(\"driver\", \"com.mysql.jdbc.Driver\").option(\"dbtable\", \"order_reviews\") \\\n",
    "    .option(\"user\", \"root\").option(\"password\", \"\").load()\n",
    "\n",
    "orders = spark.read.format(\"jdbc\").option(\"url\", \"jdbc:mysql://localhost:3306/spark_db\") \\\n",
    "    .option(\"driver\", \"com.mysql.jdbc.Driver\").option(\"dbtable\", \"orders\") \\\n",
    "    .option(\"user\", \"root\").option(\"password\", \"\").load()\n",
    "\n",
    "product_category_name_translation = spark.read.format(\"jdbc\").option(\"url\", \"jdbc:mysql://localhost:3306/spark_db\") \\\n",
    "    .option(\"driver\", \"com.mysql.jdbc.Driver\").option(\"dbtable\", \"product_category_name_translation\") \\\n",
    "    .option(\"user\", \"root\").option(\"password\", \"\").load()\n",
    "\n",
    "products = spark.read.format(\"jdbc\").option(\"url\", \"jdbc:mysql://localhost:3306/spark_db\") \\\n",
    "    .option(\"driver\", \"com.mysql.jdbc.Driver\").option(\"dbtable\", \"products\") \\\n",
    "    .option(\"user\", \"root\").option(\"password\", \"\").load()\n",
    "\n",
    "sellers = spark.read.format(\"jdbc\").option(\"url\", \"jdbc:mysql://localhost:3306/spark_db\") \\\n",
    "    .option(\"driver\", \"com.mysql.jdbc.Driver\").option(\"dbtable\", \"sellers\") \\\n",
    "    .option(\"user\", \"root\").option(\"password\", \"\").load()"
   ]
  },
  {
   "cell_type": "code",
   "execution_count": 4,
   "id": "553c083a",
   "metadata": {},
   "outputs": [
    {
     "name": "stdout",
     "output_type": "stream",
     "text": [
      "[customers]\n",
      "root\n",
      " |-- index: long (nullable = true)\n",
      " |-- customer_id: string (nullable = true)\n",
      " |-- customer_unique_id: string (nullable = true)\n",
      " |-- customer_zip_code_prefix: long (nullable = true)\n",
      " |-- customer_city: string (nullable = true)\n",
      " |-- customer_state: string (nullable = true)\n",
      "\n",
      "----------------------------------------------------------------------------------------------------\n",
      "[geolocation]\n",
      "root\n",
      " |-- index: long (nullable = true)\n",
      " |-- geolocation_zip_code_prefix: long (nullable = true)\n",
      " |-- geolocation_lat: double (nullable = true)\n",
      " |-- geolocation_lng: double (nullable = true)\n",
      " |-- geolocation_city: string (nullable = true)\n",
      " |-- geolocation_state: string (nullable = true)\n",
      "\n",
      "----------------------------------------------------------------------------------------------------\n",
      "[order_items]\n",
      "root\n",
      " |-- index: long (nullable = true)\n",
      " |-- order_id: string (nullable = true)\n",
      " |-- order_item_id: long (nullable = true)\n",
      " |-- product_id: string (nullable = true)\n",
      " |-- seller_id: string (nullable = true)\n",
      " |-- shipping_limit_date: string (nullable = true)\n",
      " |-- price: double (nullable = true)\n",
      " |-- freight_value: double (nullable = true)\n",
      "\n",
      "----------------------------------------------------------------------------------------------------\n",
      "[order_payments]\n",
      "root\n",
      " |-- index: long (nullable = true)\n",
      " |-- order_id: string (nullable = true)\n",
      " |-- payment_sequential: long (nullable = true)\n",
      " |-- payment_type: string (nullable = true)\n",
      " |-- payment_installments: long (nullable = true)\n",
      " |-- payment_value: double (nullable = true)\n",
      "\n",
      "----------------------------------------------------------------------------------------------------\n",
      "[order_reviews]\n",
      "root\n",
      " |-- review_id: string (nullable = true)\n",
      " |-- order_id: string (nullable = true)\n",
      " |-- review_score: long (nullable = true)\n",
      " |-- review_creation_date: string (nullable = true)\n",
      " |-- review_answer_timestamp: string (nullable = true)\n",
      "\n",
      "----------------------------------------------------------------------------------------------------\n",
      "[orders]\n",
      "root\n",
      " |-- index: long (nullable = true)\n",
      " |-- order_id: string (nullable = true)\n",
      " |-- customer_id: string (nullable = true)\n",
      " |-- order_status: string (nullable = true)\n",
      " |-- order_purchase_timestamp: string (nullable = true)\n",
      " |-- order_approved_at: string (nullable = true)\n",
      " |-- order_delivered_carrier_date: string (nullable = true)\n",
      " |-- order_delivered_customer_date: string (nullable = true)\n",
      " |-- order_estimated_delivery_date: string (nullable = true)\n",
      "\n",
      "----------------------------------------------------------------------------------------------------\n",
      "[product_category_name_translation]\n",
      "root\n",
      " |-- index: long (nullable = true)\n",
      " |-- product_category_name: string (nullable = true)\n",
      " |-- product_category_name_english: string (nullable = true)\n",
      "\n",
      "----------------------------------------------------------------------------------------------------\n",
      "[products]\n",
      "root\n",
      " |-- index: long (nullable = true)\n",
      " |-- product_id: string (nullable = true)\n",
      " |-- product_category_name: string (nullable = true)\n",
      " |-- product_name_lenght: double (nullable = true)\n",
      " |-- product_description_lenght: double (nullable = true)\n",
      " |-- product_photos_qty: double (nullable = true)\n",
      " |-- product_weight_g: double (nullable = true)\n",
      " |-- product_length_cm: double (nullable = true)\n",
      " |-- product_height_cm: double (nullable = true)\n",
      " |-- product_width_cm: double (nullable = true)\n",
      "\n",
      "----------------------------------------------------------------------------------------------------\n",
      "[sellers]\n",
      "root\n",
      " |-- index: long (nullable = true)\n",
      " |-- seller_id: string (nullable = true)\n",
      " |-- seller_zip_code_prefix: long (nullable = true)\n",
      " |-- seller_city: string (nullable = true)\n",
      " |-- seller_state: string (nullable = true)\n",
      "\n",
      "----------------------------------------------------------------------------------------------------\n"
     ]
    }
   ],
   "source": [
    "print('[customers]')\n",
    "customers.printSchema()\n",
    "print('--' * 50)\n",
    "\n",
    "print('[geolocation]')\n",
    "geolocation.printSchema()\n",
    "print('--' * 50)\n",
    "\n",
    "print('[order_items]')\n",
    "order_items.printSchema()\n",
    "print('--' * 50)\n",
    "\n",
    "print('[order_payments]')\n",
    "order_payments.printSchema()\n",
    "print('--' * 50)\n",
    "\n",
    "print('[order_reviews]')\n",
    "order_reviews.printSchema()\n",
    "print('--' * 50)\n",
    "\n",
    "print('[orders]')\n",
    "orders.printSchema()\n",
    "print('--' * 50)\n",
    "\n",
    "print('[product_category_name_translation]')\n",
    "product_category_name_translation.printSchema()\n",
    "print('--' * 50)\n",
    "\n",
    "print('[products]')\n",
    "products.printSchema()\n",
    "print('--' * 50)\n",
    "\n",
    "print('[sellers]')\n",
    "sellers.printSchema()\n",
    "print('--' * 50)"
   ]
  },
  {
   "cell_type": "code",
   "execution_count": 5,
   "id": "3a69399a",
   "metadata": {},
   "outputs": [],
   "source": [
    "customers.createOrReplaceTempView(\"customers\")\n",
    "geolocation.createOrReplaceTempView(\"geolocation\")\n",
    "order_items.createOrReplaceTempView(\"order_items\")\n",
    "order_payments.createOrReplaceTempView(\"order_payments\")\n",
    "order_reviews.createOrReplaceTempView(\"order_reviews\")\n",
    "orders.createOrReplaceTempView(\"orders\")\n",
    "product_category_name_translation.createOrReplaceTempView(\"product_category_name_translation\")\n",
    "products.createOrReplaceTempView(\"products\")\n",
    "sellers.createOrReplaceTempView(\"sellers\")"
   ]
  },
  {
   "cell_type": "markdown",
   "id": "9826afd5",
   "metadata": {},
   "source": [
    "### Orders"
   ]
  },
  {
   "cell_type": "code",
   "execution_count": 6,
   "id": "071c1a1f",
   "metadata": {},
   "outputs": [],
   "source": [
    "query = \"\"\"\n",
    "SELECT \n",
    "    *\n",
    "FROM \n",
    "    orders;\n",
    "\"\"\""
   ]
  },
  {
   "cell_type": "code",
   "execution_count": 7,
   "id": "105d0695",
   "metadata": {},
   "outputs": [
    {
     "name": "stderr",
     "output_type": "stream",
     "text": [
      "[Stage 0:>                                                          (0 + 1) / 1]\r"
     ]
    },
    {
     "name": "stdout",
     "output_type": "stream",
     "text": [
      "+-----+--------------------+--------------------+------------+------------------------+-------------------+----------------------------+-----------------------------+-----------------------------+\n",
      "|index|            order_id|         customer_id|order_status|order_purchase_timestamp|  order_approved_at|order_delivered_carrier_date|order_delivered_customer_date|order_estimated_delivery_date|\n",
      "+-----+--------------------+--------------------+------------+------------------------+-------------------+----------------------------+-----------------------------+-----------------------------+\n",
      "|    0|e481f51cbdc54678b...|9ef432eb625129730...|   delivered|     2017-10-02 10:56:33|2017-10-02 11:07:15|         2017-10-04 19:55:00|          2017-10-10 21:25:13|          2017-10-18 00:00:00|\n",
      "|    1|53cdb2fc8bc7dce0b...|b0830fb4747a6c6d2...|   delivered|     2018-07-24 20:41:37|2018-07-26 03:24:27|         2018-07-26 14:31:00|          2018-08-07 15:27:45|          2018-08-13 00:00:00|\n",
      "|    2|47770eb9100c2d0c4...|41ce2a54c0b03bf34...|   delivered|     2018-08-08 08:38:49|2018-08-08 08:55:23|         2018-08-08 13:50:00|          2018-08-17 18:06:29|          2018-09-04 00:00:00|\n",
      "|    3|949d5b44dbf5de918...|f88197465ea7920ad...|   delivered|     2017-11-18 19:28:06|2017-11-18 19:45:59|         2017-11-22 13:39:59|          2017-12-02 00:28:42|          2017-12-15 00:00:00|\n",
      "|    4|ad21c59c0840e6cb8...|8ab97904e6daea886...|   delivered|     2018-02-13 21:18:39|2018-02-13 22:20:29|         2018-02-14 19:46:34|          2018-02-16 18:17:02|          2018-02-26 00:00:00|\n",
      "|    5|a4591c265e18cb1dc...|503740e9ca751ccdd...|   delivered|     2017-07-09 21:57:05|2017-07-09 22:10:13|         2017-07-11 14:58:04|          2017-07-26 10:57:55|          2017-08-01 00:00:00|\n",
      "|    6|136cce7faa42fdb2c...|ed0271e0b7da060a3...|    invoiced|     2017-04-11 12:22:08|2017-04-13 13:25:17|                        null|                         null|          2017-05-09 00:00:00|\n",
      "|    7|6514b8ad8028c9f2c...|9bdf08b4b3b52b552...|   delivered|     2017-05-16 13:10:30|2017-05-16 13:22:11|         2017-05-22 10:07:46|          2017-05-26 12:55:51|          2017-06-07 00:00:00|\n",
      "|    8|76c6e866289321a7c...|f54a9f0e6b351c431...|   delivered|     2017-01-23 18:29:09|2017-01-25 02:50:47|         2017-01-26 14:16:31|          2017-02-02 14:08:10|          2017-03-06 00:00:00|\n",
      "|    9|e69bfb5eb88e0ed6a...|31ad1d1b63eb99624...|   delivered|     2017-07-29 11:55:02|2017-07-29 12:05:32|         2017-08-10 19:45:24|          2017-08-16 17:14:30|          2017-08-23 00:00:00|\n",
      "|   10|e6ce16cb79ec1d90b...|494dded5b201313c6...|   delivered|     2017-05-16 19:41:10|2017-05-16 19:50:18|         2017-05-18 11:40:40|          2017-05-29 11:18:31|          2017-06-07 00:00:00|\n",
      "|   11|34513ce0c4fab462a...|7711cf624183d843a...|   delivered|     2017-07-13 19:58:11|2017-07-13 20:10:08|         2017-07-14 18:43:29|          2017-07-19 14:04:48|          2017-08-08 00:00:00|\n",
      "|   12|82566a660a982b15f...|d3e3b74c766bc6214...|   delivered|     2018-06-07 10:06:19|2018-06-09 03:13:12|         2018-06-11 13:29:00|          2018-06-19 12:05:52|          2018-07-18 00:00:00|\n",
      "|   13|5ff96c15d0b717ac6...|19402a48fe860416a...|   delivered|     2018-07-25 17:44:10|2018-07-25 17:55:14|         2018-07-26 13:16:00|          2018-07-30 15:52:25|          2018-08-08 00:00:00|\n",
      "|   14|432aaf21d85167c2c...|3df704f53d3f1d481...|   delivered|     2018-03-01 14:14:28|2018-03-01 15:10:47|         2018-03-02 21:09:20|          2018-03-12 23:36:26|          2018-03-21 00:00:00|\n",
      "|   15|dcb36b511fcac050b...|3b6828a50ffe54694...|   delivered|     2018-06-07 19:03:12|2018-06-12 23:31:02|         2018-06-11 14:54:00|          2018-06-21 15:34:32|          2018-07-04 00:00:00|\n",
      "|   16|403b97836b0c04a62...|738b086814c6fcc74...|   delivered|     2018-01-02 19:00:43|2018-01-02 19:09:04|         2018-01-03 18:19:09|          2018-01-20 01:38:59|          2018-02-06 00:00:00|\n",
      "|   17|116f0b09343b49556...|3187789bec9909876...|   delivered|     2017-12-26 23:41:31|2017-12-26 23:50:22|         2017-12-28 18:33:05|          2018-01-08 22:36:36|          2018-01-29 00:00:00|\n",
      "|   18|85ce859fd6dc634de...|059f7fc5719c7da6c...|   delivered|     2017-11-21 00:03:41|2017-11-21 00:14:22|         2017-11-23 21:32:26|          2017-11-27 18:28:00|          2017-12-11 00:00:00|\n",
      "|   19|83018ec114eee8641...|7f8c8b9c2ae27bf33...|   delivered|     2017-10-26 15:54:26|2017-10-26 16:08:14|         2017-10-26 21:46:53|          2017-11-08 22:22:00|          2017-11-23 00:00:00|\n",
      "+-----+--------------------+--------------------+------------+------------------------+-------------------+----------------------------+-----------------------------+-----------------------------+\n",
      "only showing top 20 rows\n",
      "\n"
     ]
    },
    {
     "name": "stderr",
     "output_type": "stream",
     "text": [
      "\r",
      "                                                                                \r"
     ]
    }
   ],
   "source": [
    "spark.sql(query).show()"
   ]
  },
  {
   "cell_type": "code",
   "execution_count": 8,
   "id": "e4d5db90",
   "metadata": {},
   "outputs": [],
   "source": [
    "query = \"\"\"\n",
    "SELECT \n",
    "    DISTINCT(order_status)\n",
    "FROM \n",
    "    orders;\n",
    "\"\"\""
   ]
  },
  {
   "cell_type": "code",
   "execution_count": 9,
   "id": "5f9087c5",
   "metadata": {},
   "outputs": [
    {
     "name": "stderr",
     "output_type": "stream",
     "text": [
      "\r",
      "[Stage 1:>                                                          (0 + 1) / 1]\r"
     ]
    },
    {
     "name": "stdout",
     "output_type": "stream",
     "text": [
      "+------------+\n",
      "|order_status|\n",
      "+------------+\n",
      "|     shipped|\n",
      "|    canceled|\n",
      "|    approved|\n",
      "|    invoiced|\n",
      "|     created|\n",
      "|   delivered|\n",
      "| unavailable|\n",
      "|  processing|\n",
      "+------------+\n",
      "\n"
     ]
    },
    {
     "name": "stderr",
     "output_type": "stream",
     "text": [
      "\r",
      "                                                                                \r"
     ]
    }
   ],
   "source": [
    "spark.sql(query).show()"
   ]
  },
  {
   "cell_type": "code",
   "execution_count": 10,
   "id": "a13c29c7",
   "metadata": {},
   "outputs": [],
   "source": [
    "query = \"\"\"\n",
    "SELECT \n",
    "    customer_id, COUNT(order_id) as order_count\n",
    "FROM \n",
    "    orders\n",
    "WHERE \n",
    "    order_status == 'delivered'\n",
    "GROUP BY \n",
    "    customer_id\n",
    "ORDER BY 2 DESC;\n",
    "\"\"\""
   ]
  },
  {
   "cell_type": "code",
   "execution_count": 11,
   "id": "a0702dd5",
   "metadata": {},
   "outputs": [
    {
     "name": "stderr",
     "output_type": "stream",
     "text": [
      "\r",
      "[Stage 4:>                                                          (0 + 1) / 1]\r"
     ]
    },
    {
     "name": "stdout",
     "output_type": "stream",
     "text": [
      "+--------------------+-----------+\n",
      "|         customer_id|order_count|\n",
      "+--------------------+-----------+\n",
      "|ef15b3240b2083e04...|          1|\n",
      "|70ab5e994ea383619...|          1|\n",
      "|0df487c45aada9cfd...|          1|\n",
      "|b8c5e65ce798bc0c8...|          1|\n",
      "|743dd95aefb65359a...|          1|\n",
      "|df0aa5b8586495e0d...|          1|\n",
      "|9f4578f809480da7c...|          1|\n",
      "|116a19a0ae346ac66...|          1|\n",
      "|0c61d5a89f3c2614a...|          1|\n",
      "|039c5d6f330c73420...|          1|\n",
      "|8bdba2ea966d946cc...|          1|\n",
      "|7c029959cc691fbe5...|          1|\n",
      "|874dfb94ae7ceab04...|          1|\n",
      "|5f46e687a5c82cb1e...|          1|\n",
      "|c69e9b9095b1491d5...|          1|\n",
      "|72c990123f7cab26c...|          1|\n",
      "|36b9a428f314355ab...|          1|\n",
      "|aee9d44d59c6cb00a...|          1|\n",
      "|cdfb43f4e84e1508f...|          1|\n",
      "|bc94fe20172cefc3e...|          1|\n",
      "+--------------------+-----------+\n",
      "only showing top 20 rows\n",
      "\n"
     ]
    },
    {
     "name": "stderr",
     "output_type": "stream",
     "text": [
      "\r",
      "                                                                                \r"
     ]
    }
   ],
   "source": [
    "spark.sql(query).show()"
   ]
  },
  {
   "cell_type": "code",
   "execution_count": 17,
   "id": "e18f0d63",
   "metadata": {},
   "outputs": [],
   "source": [
    "query = \"\"\"\n",
    "SELECT \n",
    "    customer_id, COUNT(order_id) as order_count\n",
    "FROM \n",
    "    orders\n",
    "WHERE \n",
    "    order_status == 'delivered'\n",
    "GROUP BY \n",
    "    customer_id\n",
    "ORDER BY 2 DESC;\n",
    "\"\"\""
   ]
  },
  {
   "cell_type": "code",
   "execution_count": 18,
   "id": "b0141c4d",
   "metadata": {},
   "outputs": [
    {
     "name": "stderr",
     "output_type": "stream",
     "text": [
      "                                                                                \r"
     ]
    },
    {
     "name": "stdout",
     "output_type": "stream",
     "text": [
      "+--------------------+-----------+\n",
      "|         customer_id|order_count|\n",
      "+--------------------+-----------+\n",
      "|f54a9f0e6b351c431...|          1|\n",
      "|2a1dfb647f32f4390...|          1|\n",
      "|4f28355e5c17a4a42...|          1|\n",
      "|4632eb5a8f175f6fe...|          1|\n",
      "|843ff05b30ce4f75b...|          1|\n",
      "|a4156bb8aff5d6722...|          1|\n",
      "|1099d033c74a027a7...|          1|\n",
      "|7a3bd3b37285f0ab2...|          1|\n",
      "|5fff39f1b59dc4d2f...|          1|\n",
      "|18f6ca10777417c93...|          1|\n",
      "|f1e46939e6408b3e6...|          1|\n",
      "|a8695124db570d100...|          1|\n",
      "|545b9a267af9ba134...|          1|\n",
      "|90d7075599361b694...|          1|\n",
      "|a340ce6c3570e68d4...|          1|\n",
      "|ce0681e1c3f70e145...|          1|\n",
      "|ee905ec97794ec6e9...|          1|\n",
      "|b74ca180d63f9ae04...|          1|\n",
      "|0de46efc7d10114ac...|          1|\n",
      "|8bdae6b4ff9bc7f4c...|          1|\n",
      "+--------------------+-----------+\n",
      "only showing top 20 rows\n",
      "\n"
     ]
    }
   ],
   "source": [
    "spark.sql(query).show()"
   ]
  },
  {
   "cell_type": "code",
   "execution_count": 27,
   "id": "fe84a663",
   "metadata": {},
   "outputs": [],
   "source": [
    "query = \"\"\"\n",
    "SELECT \n",
    "    order_status, COUNT(order_id)\n",
    "FROM \n",
    "    orders\n",
    "GROUP BY \n",
    "    order_status\n",
    "ORDER BY\n",
    "    2 DESC;\n",
    "\"\"\""
   ]
  },
  {
   "cell_type": "code",
   "execution_count": 28,
   "id": "eeb6df14",
   "metadata": {},
   "outputs": [
    {
     "name": "stdout",
     "output_type": "stream",
     "text": [
      "+------------+---------------+\n",
      "|order_status|count(order_id)|\n",
      "+------------+---------------+\n",
      "|   delivered|          96478|\n",
      "|     shipped|           1107|\n",
      "|    canceled|            625|\n",
      "| unavailable|            609|\n",
      "|    invoiced|            314|\n",
      "|  processing|            301|\n",
      "|     created|              5|\n",
      "|    approved|              2|\n",
      "+------------+---------------+\n",
      "\n"
     ]
    }
   ],
   "source": [
    "spark.sql(query).show()"
   ]
  },
  {
   "cell_type": "code",
   "execution_count": 12,
   "id": "f4ebbc4c",
   "metadata": {},
   "outputs": [],
   "source": [
    "query = \"\"\"\n",
    "SELECT \n",
    "    order_id, order_status, order_purchase_timestamp\n",
    "FROM \n",
    "    orders\n",
    "ORDER BY \n",
    "    order_purchase_timestamp DESC;\n",
    "\"\"\""
   ]
  },
  {
   "cell_type": "code",
   "execution_count": 13,
   "id": "b4386d5f",
   "metadata": {},
   "outputs": [
    {
     "name": "stdout",
     "output_type": "stream",
     "text": [
      "+--------------------+------------+------------------------+\n",
      "|            order_id|order_status|order_purchase_timestamp|\n",
      "+--------------------+------------+------------------------+\n",
      "|10a045cdf6a5650c2...|    canceled|     2018-10-17 17:30:18|\n",
      "|b059ee4de278302d5...|    canceled|     2018-10-16 20:16:02|\n",
      "|a2ac6dad85cf8af5b...|    canceled|     2018-10-03 18:55:29|\n",
      "|616fa7d4871b87832...|    canceled|     2018-10-01 15:30:09|\n",
      "|392ed9afd714e3c74...|    canceled|     2018-09-29 09:13:03|\n",
      "|869997fbe01f39d18...|    canceled|     2018-09-26 08:40:15|\n",
      "|5aac76cf7b07dd06f...|    canceled|     2018-09-25 11:59:18|\n",
      "|ed3efbd3a87bea76c...|    canceled|     2018-09-20 13:54:16|\n",
      "|bd35b677fd239386e...|    canceled|     2018-09-17 17:21:16|\n",
      "|ea844c92cf978ea23...|    canceled|     2018-09-13 09:56:12|\n",
      "|1ad22e16129698e1a...|    canceled|     2018-09-12 15:32:16|\n",
      "|87ae60ef8b08ae0e5...|    canceled|     2018-09-11 16:45:54|\n",
      "|21a00b08cbeb5716b...|    canceled|     2018-09-10 17:51:25|\n",
      "|a89abace0dcc01eeb...|    canceled|     2018-09-06 18:45:47|\n",
      "|4d59cc2a2e7bb6c0a...|    canceled|     2018-09-06 14:50:07|\n",
      "|afb61112fb99b07fe...|    canceled|     2018-09-06 10:48:12|\n",
      "|cfdfd7862e532c4ec...|    canceled|     2018-09-03 18:45:34|\n",
      "|0d3adebce4bebc1f8...|    canceled|     2018-09-03 18:40:50|\n",
      "|4637ca194b6387e2d...|    canceled|     2018-09-03 14:14:25|\n",
      "|54282e97f61c23b78...|     shipped|     2018-09-03 09:06:57|\n",
      "+--------------------+------------+------------------------+\n",
      "only showing top 20 rows\n",
      "\n"
     ]
    }
   ],
   "source": [
    "spark.sql(query).show()"
   ]
  },
  {
   "cell_type": "code",
   "execution_count": 29,
   "id": "465e5b0c",
   "metadata": {},
   "outputs": [
    {
     "name": "stdout",
     "output_type": "stream",
     "text": [
      "+--------------------+------------+------------------------+\n",
      "|            order_id|order_status|order_purchase_timestamp|\n",
      "+--------------------+------------+------------------------+\n",
      "|2e7a8482f6fb09756...|     shipped|     2016-09-04 21:15:19|\n",
      "|e5fa5a7210941f7d5...|    canceled|     2016-09-05 00:15:34|\n",
      "|809a282bbd5dbcabb...|    canceled|     2016-09-13 15:24:19|\n",
      "|bfbd0f9bdef843021...|   delivered|     2016-09-15 12:16:38|\n",
      "|71303d7e93b399f5b...|    canceled|     2016-10-02 22:07:52|\n",
      "|3b697a20d9e427646...|   delivered|     2016-10-03 09:44:50|\n",
      "|be5bc2f0da14d8071...|   delivered|     2016-10-03 16:56:50|\n",
      "|65d1e226dfaeb8cdc...|    canceled|     2016-10-03 21:01:41|\n",
      "|a41c8759fbe7aab36...|   delivered|     2016-10-03 21:13:36|\n",
      "|d207cc272675637bf...|   delivered|     2016-10-03 22:06:03|\n",
      "|cd3b8574c82b42fc8...|   delivered|     2016-10-03 22:31:31|\n",
      "|ae8a60e4b03c5a4ba...|   delivered|     2016-10-03 22:44:10|\n",
      "|ef1b29b591d31d57c...|   delivered|     2016-10-03 22:51:30|\n",
      "|0a0837a5eee9e7a9c...|   delivered|     2016-10-04 09:06:10|\n",
      "|1ff217aa612f6cd7c...|   delivered|     2016-10-04 09:16:33|\n",
      "|ed8c7b1b3eb256c70...|   delivered|     2016-10-04 09:59:03|\n",
      "|1aecadf4362edaca7...|    canceled|     2016-10-04 10:05:45|\n",
      "|c3d9e402b6a0fbe2a...|   delivered|     2016-10-04 10:16:04|\n",
      "|46046adea0e222a29...|   delivered|     2016-10-04 10:41:17|\n",
      "|80606b26965c5ed21...|   delivered|     2016-10-04 11:03:14|\n",
      "+--------------------+------------+------------------------+\n",
      "only showing top 20 rows\n",
      "\n"
     ]
    }
   ],
   "source": [
    "query = \"\"\"\n",
    "SELECT \n",
    "    order_id, order_status, order_purchase_timestamp\n",
    "FROM \n",
    "    orders\n",
    "ORDER BY \n",
    "    order_purchase_timestamp ASC;\n",
    "\"\"\"\n",
    "\n",
    "spark.sql(query).show()"
   ]
  },
  {
   "cell_type": "code",
   "execution_count": 30,
   "id": "94d4ab7d",
   "metadata": {},
   "outputs": [],
   "source": [
    "query = \"\"\"\n",
    "SELECT \n",
    "    order_id, customer_id, order_status,\n",
    "    ROUND(TO_DAYS(order_approved_at) - TO_DAYS(order_purchase_timestamp)+1721060) AS buy_to_approved,\n",
    "    ROUND(TO_DAYS(order_delivered_carrier_date)+1721060 - TO_DAYS(order_approved_at)+1721060) AS aproved_to_carrier,\n",
    "    ROUND(TO_DAYS(order_estimated_delivery_date)+1721060 - TO_DAYS(order_delivered_carrier_date)+1721060) AS carrier_to_delivered,\n",
    "    ROUND(TO_DAYS(order_delivered_customer_date)+1721060 - TO_DAYS(order_delivered_carrier_date)+1721060) AS carrier_to_customer,\n",
    "    ( ROUND(TO_DAYS(order_delivered_customer_date)+1721060 - TO_DAYS(order_delivered_carrier_date)+1721060) - ROUND(TO_DAYS(order_estimated_delivery_date)+1721060 - TO_DAYS(order_delivered_carrier_date)+1721060)) AS estimated\n",
    "FROM \n",
    "    orders\n",
    ";\n",
    "\"\"\""
   ]
  },
  {
   "cell_type": "code",
   "execution_count": 32,
   "id": "3f066d98",
   "metadata": {},
   "outputs": [],
   "source": [
    "# spark.sql(query).show()"
   ]
  },
  {
   "cell_type": "code",
   "execution_count": 44,
   "id": "328f9f05",
   "metadata": {},
   "outputs": [
    {
     "name": "stderr",
     "output_type": "stream",
     "text": [
      "\r",
      "[Stage 40:>                                                         (0 + 1) / 1]\r"
     ]
    },
    {
     "name": "stdout",
     "output_type": "stream",
     "text": [
      "+-------------------+----------------+\n",
      "|order_purchase_date|purchased_volume|\n",
      "+-------------------+----------------+\n",
      "|         2017-11-24|            1176|\n",
      "|         2017-11-25|             499|\n",
      "|         2017-11-27|             403|\n",
      "|         2017-11-26|             391|\n",
      "|         2017-11-28|             380|\n",
      "|         2018-05-07|             372|\n",
      "|         2018-08-06|             372|\n",
      "|         2018-08-07|             370|\n",
      "|         2018-05-14|             364|\n",
      "|         2018-05-16|             357|\n",
      "|         2018-05-15|             352|\n",
      "|         2018-05-09|             344|\n",
      "|         2017-12-04|             337|\n",
      "|         2018-05-08|             331|\n",
      "|         2017-11-29|             323|\n",
      "|         2018-07-31|             322|\n",
      "|         2018-08-16|             320|\n",
      "|         2018-08-14|             316|\n",
      "|         2018-08-08|             316|\n",
      "|         2018-01-22|             314|\n",
      "+-------------------+----------------+\n",
      "only showing top 20 rows\n",
      "\n"
     ]
    },
    {
     "name": "stderr",
     "output_type": "stream",
     "text": [
      "\r",
      "                                                                                \r"
     ]
    }
   ],
   "source": [
    "query = \"\"\"\n",
    "SELECT\n",
    "    order_purchase_date, COUNT(*) as purchased_volume\n",
    "FROM\n",
    "    (SELECT split(order_purchase_timestamp, ' ')[0] as order_purchase_date FROM orders)\n",
    "GROUP BY \n",
    "    order_purchase_date\n",
    "ORDER BY\n",
    "    2 DESC;\n",
    "\"\"\"\n",
    "\n",
    "spark.sql(query).show()"
   ]
  },
  {
   "cell_type": "code",
   "execution_count": 47,
   "id": "6cf632a8",
   "metadata": {},
   "outputs": [
    {
     "name": "stderr",
     "output_type": "stream",
     "text": [
      "\r",
      "[Stage 43:>                                                         (0 + 1) / 1]\r"
     ]
    },
    {
     "name": "stdout",
     "output_type": "stream",
     "text": [
      "+------------------+---------------+------------------+\n",
      "|payment_sequential|count(order_id)|avg(payment_value)|\n",
      "+------------------+---------------+------------------+\n",
      "|                 1|          99360|158.33677365135628|\n",
      "|                 2|           3039|  79.1018492925306|\n",
      "|                 3|            581|30.417710843373516|\n",
      "|                 4|            278|23.265431654676256|\n",
      "|                 5|            170| 23.89588235294118|\n",
      "|                 6|            118| 24.06161016949153|\n",
      "|                 7|             82|20.672439024390247|\n",
      "|                 8|             54|13.437407407407408|\n",
      "|                 9|             43|13.521627906976748|\n",
      "|                10|             34|15.617352941176474|\n",
      "|                11|             29|13.351379310344829|\n",
      "|                12|             21| 16.07761904761905|\n",
      "|                13|             13| 8.773846153846154|\n",
      "|                14|             10|            13.481|\n",
      "|                15|              8|12.434999999999999|\n",
      "|                16|              6| 8.106666666666667|\n",
      "|                17|              6| 6.243333333333333|\n",
      "|                18|              6|3.0983333333333327|\n",
      "|                19|              6|3.4866666666666664|\n",
      "|                20|              4|           39.1725|\n",
      "+------------------+---------------+------------------+\n",
      "only showing top 20 rows\n",
      "\n"
     ]
    },
    {
     "name": "stderr",
     "output_type": "stream",
     "text": [
      "\r",
      "                                                                                \r"
     ]
    }
   ],
   "source": [
    "query = \"\"\"\n",
    "SELECT \n",
    "    payment_sequential, COUNT(order_id), AVG(payment_value)\n",
    "FROM \n",
    "    order_payments\n",
    "GROUP BY \n",
    "    payment_sequential\n",
    "ORDER BY \n",
    "    2 DESC, 1;\n",
    "\"\"\"\n",
    "\n",
    "spark.sql(query).show()"
   ]
  },
  {
   "cell_type": "code",
   "execution_count": 14,
   "id": "60722a72",
   "metadata": {},
   "outputs": [],
   "source": [
    "query = \"\"\"\n",
    "SELECT \n",
    "    payment_type, COUNT(order_id), AVG(payment_value)\n",
    "FROM \n",
    "    order_payments\n",
    "GROUP BY \n",
    "    payment_type\n",
    "ORDER BY 2 DESC;\n",
    "\"\"\""
   ]
  },
  {
   "cell_type": "code",
   "execution_count": 15,
   "id": "63fd151f",
   "metadata": {},
   "outputs": [
    {
     "name": "stderr",
     "output_type": "stream",
     "text": [
      "\r",
      "[Stage 8:>                                                          (0 + 1) / 1]\r"
     ]
    },
    {
     "name": "stdout",
     "output_type": "stream",
     "text": [
      "+------------+---------------+------------------+\n",
      "|payment_type|count(order_id)|avg(payment_value)|\n",
      "+------------+---------------+------------------+\n",
      "| credit_card|          76795|163.31902063935578|\n",
      "|      boleto|          19784| 145.0344354023441|\n",
      "|     voucher|           5775| 65.70335411255424|\n",
      "|  debit_card|           1529|142.57017004578162|\n",
      "| not_defined|              3|               0.0|\n",
      "+------------+---------------+------------------+\n",
      "\n"
     ]
    },
    {
     "name": "stderr",
     "output_type": "stream",
     "text": [
      "\r",
      "                                                                                \r"
     ]
    }
   ],
   "source": [
    "spark.sql(query).show()"
   ]
  },
  {
   "cell_type": "code",
   "execution_count": 48,
   "id": "b512a063",
   "metadata": {},
   "outputs": [
    {
     "name": "stderr",
     "output_type": "stream",
     "text": [
      "\r",
      "[Stage 46:>                                                         (0 + 1) / 1]\r"
     ]
    },
    {
     "name": "stdout",
     "output_type": "stream",
     "text": [
      "+--------------------+---------------+------------------+\n",
      "|payment_installments|count(order_id)|avg(payment_value)|\n",
      "+--------------------+---------------+------------------+\n",
      "|                   0|              2|            94.315|\n",
      "|                   1|          52546|112.42022913256561|\n",
      "|                   2|          12413|127.22815032627128|\n",
      "|                   3|          10461| 142.5393174648697|\n",
      "|                   4|           7098|163.97683995491641|\n",
      "|                   5|           5239|183.46522237068183|\n",
      "|                   6|           3920| 209.8499515306125|\n",
      "|                   7|           1626| 187.6736715867158|\n",
      "|                   8|           4268|307.73742736644886|\n",
      "|                   9|            644|203.44086956521718|\n",
      "|                  10|           5328| 415.0858370870872|\n",
      "|                  11|             23| 124.9321739130435|\n",
      "|                  12|            133| 321.6784962406015|\n",
      "|                  13|             16|          150.4625|\n",
      "|                  14|             15| 167.9626666666667|\n",
      "|                  15|             74| 445.5531081081081|\n",
      "|                  16|              5|292.69399999999996|\n",
      "|                  17|              8|          174.6025|\n",
      "|                  18|             27|486.48333333333335|\n",
      "|                  20|             17| 615.8017647058823|\n",
      "+--------------------+---------------+------------------+\n",
      "only showing top 20 rows\n",
      "\n"
     ]
    },
    {
     "name": "stderr",
     "output_type": "stream",
     "text": [
      "\r",
      "                                                                                \r"
     ]
    }
   ],
   "source": [
    "query = \"\"\"\n",
    "SELECT \n",
    "    payment_installments, COUNT(order_id), AVG(payment_value)\n",
    "FROM \n",
    "    order_payments\n",
    "GROUP BY \n",
    "    payment_installments\n",
    "ORDER BY \n",
    "    1 ASC, 2 DESC;\n",
    "\"\"\"\n",
    "\n",
    "spark.sql(query).show()"
   ]
  },
  {
   "cell_type": "code",
   "execution_count": 56,
   "id": "5ee1f967",
   "metadata": {},
   "outputs": [
    {
     "name": "stderr",
     "output_type": "stream",
     "text": [
      "\r",
      "[Stage 58:>                                                         (0 + 1) / 1]\r"
     ]
    },
    {
     "name": "stdout",
     "output_type": "stream",
     "text": [
      "+--------------------+------------------+------------+--------------------+-----------------+\n",
      "|            order_id|payment_sequential|payment_type|payment_installments|avg_payment_value|\n",
      "+--------------------+------------------+------------+--------------------+-----------------+\n",
      "|00018f77f2f0320c5...|                 1| credit_card|                   3|           259.83|\n",
      "|00042b26cf59d7ce6...|                 1| credit_card|                   3|           218.04|\n",
      "|00054e8431b9d7675...|                 1| credit_card|                   1|            31.75|\n",
      "|0005a1a1728c9d785...|                 1| credit_card|                   3|            157.6|\n",
      "|0005f50442cb953dc...|                 1| credit_card|                   1|            65.39|\n",
      "|00063b381e2406b52...|                 1| credit_card|                   5|            57.98|\n",
      "|0006ec9db01a64e59...|                 1| credit_card|                   4|            97.32|\n",
      "|000aed2e25dbad2f9...|                 1| credit_card|                   1|           152.77|\n",
      "|000f25f4d72195062...|                 1| credit_card|                   1|           164.39|\n",
      "|00143d0f86d6fbd9f...|                 1| credit_card|                   1|           109.29|\n",
      "|0014ae671de39511f...|                 1|      boleto|                   1|             30.6|\n",
      "|0015ebb40fb17286b...|                 1| credit_card|                   1|             37.0|\n",
      "|001ac194d4a326a6f...|                 1|      boleto|                   1|            62.54|\n",
      "|001c85b5f68d2be0c...|                 1| credit_card|                   4|           112.71|\n",
      "|001e7ba991be1b196...|                 1| credit_card|                  10|           213.21|\n",
      "|001e7cf2ad6bef3ad...|                 1| credit_card|                   2|             51.1|\n",
      "|0020a222f55eb79a3...|                 1| credit_card|                   4|            45.09|\n",
      "|002175704e8b209f6...|                 1| credit_card|                   3|           123.11|\n",
      "|002611a77fe03d076...|                 1|      boleto|                   1|           156.75|\n",
      "|00276d5c3491fbf55...|                 1| credit_card|                   6|            68.12|\n",
      "+--------------------+------------------+------------+--------------------+-----------------+\n",
      "only showing top 20 rows\n",
      "\n"
     ]
    },
    {
     "name": "stderr",
     "output_type": "stream",
     "text": [
      "\r",
      "                                                                                \r"
     ]
    }
   ],
   "source": [
    "query = \"\"\"\n",
    "SELECT \n",
    "  order_id, \n",
    "  MAX(payment_sequential) as payment_sequential, \n",
    "  MAX(payment_type) as payment_type, \n",
    "  MAX(payment_installments) as payment_installments, \n",
    "  AVG(payment_value) as avg_payment_value\n",
    "FROM \n",
    "    order_payments\n",
    "GROUP BY \n",
    "    order_id;\n",
    "-- ORDER BY 4 DESC\n",
    "\"\"\"\n",
    "\n",
    "spark.sql(query).show()"
   ]
  },
  {
   "cell_type": "code",
   "execution_count": 58,
   "id": "b48814e0",
   "metadata": {},
   "outputs": [
    {
     "name": "stdout",
     "output_type": "stream",
     "text": [
      "+--------------------+--------------------+------------+--------------------+-----------------------+\n",
      "|           review_id|            order_id|review_score|review_creation_date|review_answer_timestamp|\n",
      "+--------------------+--------------------+------------+--------------------+-----------------------+\n",
      "|7bc2406110b926393...|73fc7af87114b3971...|           4|     2018-01-18 0:00|       2018-01-18 21:46|\n",
      "|80e641a11e56f04c1...|a548910a1c6147796...|           5|     2018-03-10 0:00|        2018-03-11 3:05|\n",
      "|228ce5500dc1d8e02...|f9e4b658b201a9f2e...|           5|     2018-02-17 0:00|       2018-02-18 14:36|\n",
      "|e64fb393e7b32834b...|658677c97b385a9be...|           5|     2017-04-21 0:00|       2017-04-21 22:02|\n",
      "|f7c4243c7fe1938f1...|8e6bfb81e283fa7e4...|           5|     2018-03-01 0:00|       2018-03-02 10:26|\n",
      "|15197aa66ff4d0650...|b18dcdf73be663668...|           1|     2018-04-13 0:00|        2018-04-16 0:39|\n",
      "|07f9bee5d1b850860...|e48aa0d2dcec3a2e8...|           5|     2017-07-16 0:00|       2017-07-18 19:30|\n",
      "|7c6400515c67679fb...|c31a859e34e3adac2...|           5|     2018-08-14 0:00|       2018-08-14 21:36|\n",
      "|a3f6f7f6f433de0ae...|9c214ac970e842735...|           5|     2017-05-17 0:00|       2017-05-18 12:05|\n",
      "|8670d52e15e00043a...|b9bf720beb4ab3728...|           4|     2018-05-22 0:00|       2018-05-23 16:45|\n",
      "|c9cfd2d5ab5911836...|cdf9aa68e72324eeb...|           5|     2017-12-23 0:00|       2017-12-26 14:36|\n",
      "|96052551d87e5f62e...|3d374c9e46530bb5e...|           5|     2017-12-19 0:00|       2017-12-20 10:25|\n",
      "|4b49719c8a200003f...|9d6f15f95d01e79bd...|           4|     2018-02-16 0:00|       2018-02-20 10:52|\n",
      "|23f75a37effc35d9a...|2eaf8e099d871cd5c...|           4|     2018-03-28 0:00|       2018-03-30 15:10|\n",
      "|9a0abbb668bafb95a...|d7bd0e4afdf94846e...|           3|     2017-04-30 0:00|        2017-05-03 0:02|\n",
      "|3948b09f7c818e2d8...|e51478e7e277a8374...|           5|     2018-05-23 0:00|        2018-05-24 3:00|\n",
      "|9314d6f9799f5bfba...|0dacf04c5ad59fd5a...|           2|     2018-01-18 0:00|       2018-01-20 21:25|\n",
      "|8e15a274d95600fa1...|ff1581e08b3011021...|           5|     2018-03-24 0:00|       2018-03-26 15:58|\n",
      "|fdbdb2629a7cde0f6...|70a752414a13d09cc...|           3|     2017-09-29 0:00|        2017-10-02 1:12|\n",
      "|373cbeecea8286a2b...|583174fbe37d3d5f0...|           1|     2018-08-15 0:00|        2018-08-15 4:10|\n",
      "+--------------------+--------------------+------------+--------------------+-----------------------+\n",
      "only showing top 20 rows\n",
      "\n"
     ]
    }
   ],
   "source": [
    "query = \"\"\"\n",
    "SELECT \n",
    "    *\n",
    "FROM \n",
    "    order_reviews;\n",
    "\"\"\"\n",
    "\n",
    "spark.sql(query).show()"
   ]
  },
  {
   "cell_type": "code",
   "execution_count": 69,
   "id": "8b1855bc",
   "metadata": {},
   "outputs": [
    {
     "name": "stderr",
     "output_type": "stream",
     "text": [
      "\r",
      "[Stage 76:>                                                         (0 + 1) / 1]\r"
     ]
    },
    {
     "name": "stdout",
     "output_type": "stream",
     "text": [
      "+--------------------+--------------+--------------------+------------+\n",
      "|            order_id|reviewId_count|review_creation_date|review_score|\n",
      "+--------------------+--------------+--------------------+------------+\n",
      "|f3ee55bf50ef2f231...|             2|     2018-08-29 0:00|         4.5|\n",
      "|84aa61a900410cfe2...|             2|     2018-08-22 0:00|         5.0|\n",
      "|dab8a6c6bd6ec448d...|             2|     2018-08-22 0:00|         3.5|\n",
      "|80fe5b2fe4869330f...|             2|     2018-08-11 0:00|         5.0|\n",
      "|3e93213bb8fdda911...|             2|     2018-08-08 0:00|         5.0|\n",
      "|0b5588f04551d90ee...|             2|     2018-08-04 0:00|         3.0|\n",
      "|77ef3216467887c78...|             2|     2018-08-01 0:00|         5.0|\n",
      "|b76e1e63723d846f3...|             2|     2018-08-01 0:00|         5.0|\n",
      "|230429e6f253f9cd6...|             2|     2018-08-01 0:00|         5.0|\n",
      "|715b8576b74d53796...|             2|     2018-08-01 0:00|         5.0|\n",
      "|a1b8aea9fd9e26a86...|             2|     2018-07-31 0:00|         4.5|\n",
      "|df2a380947167bc1d...|             2|     2018-07-31 0:00|         4.5|\n",
      "|964d7960d6a2fad0d...|             2|     2018-07-28 0:00|         4.0|\n",
      "|7150a9da273995bcf...|             2|     2018-07-28 0:00|         5.0|\n",
      "|eae81d7a6951b80a0...|             2|     2018-07-27 0:00|         5.0|\n",
      "|9e47bdda0d32604c1...|             2|     2018-07-27 0:00|         5.0|\n",
      "|95442deb81a5d91c9...|             2|     2018-07-27 0:00|         5.0|\n",
      "|c1deab56eafcb4bec...|             2|     2018-07-26 0:00|         3.0|\n",
      "|d028d198f371aec5c...|             2|     2018-07-25 0:00|         5.0|\n",
      "|ace3b21c5c57456d2...|             2|     2018-07-25 0:00|         5.0|\n",
      "+--------------------+--------------+--------------------+------------+\n",
      "only showing top 20 rows\n",
      "\n"
     ]
    },
    {
     "name": "stderr",
     "output_type": "stream",
     "text": [
      "\r",
      "                                                                                \r"
     ]
    }
   ],
   "source": [
    "query = \"\"\"\n",
    "SELECT \n",
    "    order_id, COUNT(review_id) as reviewId_count, MAX(review_creation_date) as review_creation_date, AVG(review_score) as review_score\n",
    "FROM \n",
    "    order_reviews\n",
    "GROUP BY \n",
    "    order_id\n",
    "HAVING \n",
    "    COUNT(review_id) > 1\n",
    "ORDER BY\n",
    "    3 DESC;\n",
    "\"\"\"\n",
    "\n",
    "spark.sql(query).show()"
   ]
  },
  {
   "cell_type": "code",
   "execution_count": 77,
   "id": "1d9afa23",
   "metadata": {},
   "outputs": [
    {
     "name": "stdout",
     "output_type": "stream",
     "text": [
      "+--------------------+--------------------+------------+--------------------+-----------------------+\n",
      "|           review_id|            order_id|review_score|review_creation_date|review_answer_timestamp|\n",
      "+--------------------+--------------------+------------+--------------------+-----------------------+\n",
      "|b04ed893318da5b86...|03c939fd7fd3b38f8...|           3|     2018-03-20 0:00|        2018-03-21 2:28|\n",
      "|f4bb9d6dd4fb6dcc2...|03c939fd7fd3b38f8...|           4|     2018-03-29 0:00|        2018-03-30 0:29|\n",
      "|405eb2ea45e1dbe26...|03c939fd7fd3b38f8...|           3|     2018-03-06 0:00|       2018-03-06 19:50|\n",
      "+--------------------+--------------------+------------+--------------------+-----------------------+\n",
      "\n"
     ]
    }
   ],
   "source": [
    "query = \"\"\"\n",
    "SELECT \n",
    "    *\n",
    "FROM \n",
    "    order_reviews\n",
    "WHERE \n",
    "    order_id = '03c939fd7fd3b38f8485a0f95798f1f6';\n",
    "-- ORDER BY review_answer_timestamp ASC;\n",
    "\"\"\"\n",
    "\n",
    "spark.sql(query).show()"
   ]
  },
  {
   "cell_type": "code",
   "execution_count": 86,
   "id": "2b400620",
   "metadata": {},
   "outputs": [
    {
     "name": "stdout",
     "output_type": "stream",
     "text": [
      "+--------------------+--------------+\n",
      "|review_creation_date|negative_count|\n",
      "+--------------------+--------------+\n",
      "|     2018-03-24 0:00|           103|\n",
      "|     2018-03-23 0:00|           101|\n",
      "|     2018-03-21 0:00|            95|\n",
      "|     2017-12-20 0:00|            93|\n",
      "|     2017-12-19 0:00|            90|\n",
      "|     2017-12-21 0:00|            83|\n",
      "|     2018-03-29 0:00|            83|\n",
      "|     2018-04-07 0:00|            82|\n",
      "|     2018-03-25 0:00|            79|\n",
      "|     2018-03-30 0:00|            78|\n",
      "|     2018-03-22 0:00|            78|\n",
      "|     2018-04-04 0:00|            76|\n",
      "|     2018-03-28 0:00|            74|\n",
      "|     2018-03-15 0:00|            72|\n",
      "|     2018-03-18 0:00|            72|\n",
      "|     2018-04-12 0:00|            72|\n",
      "|     2017-12-22 0:00|            68|\n",
      "|     2018-03-17 0:00|            68|\n",
      "|     2017-12-14 0:00|            66|\n",
      "|     2018-04-05 0:00|            66|\n",
      "+--------------------+--------------+\n",
      "only showing top 20 rows\n",
      "\n"
     ]
    }
   ],
   "source": [
    "query = \"\"\"\n",
    "SELECT \n",
    "    review_creation_date, COUNT(*) as negative_count\n",
    "FROM \n",
    "    order_reviews\n",
    "WHERE \n",
    "    review_score = 1\n",
    "GROUP BY\n",
    "    review_creation_date\n",
    "ORDER BY \n",
    "    2 DESC;\n",
    "\"\"\"\n",
    "\n",
    "spark.sql(query).show()"
   ]
  },
  {
   "cell_type": "code",
   "execution_count": 89,
   "id": "a5bd47ae",
   "metadata": {},
   "outputs": [
    {
     "name": "stdout",
     "output_type": "stream",
     "text": [
      "+------------+----------------+\n",
      "|review_score|count(review_id)|\n",
      "+------------+----------------+\n",
      "|           5|           57328|\n",
      "|           4|           19142|\n",
      "|           3|            8179|\n",
      "|           2|            3151|\n",
      "|           1|           11424|\n",
      "+------------+----------------+\n",
      "\n"
     ]
    }
   ],
   "source": [
    "query = \"\"\"\n",
    "SELECT \n",
    "    review_score, COUNT(review_id)\n",
    "FROM \n",
    "    order_reviews\n",
    "GROUP BY \n",
    "    review_score\n",
    "ORDER BY\n",
    "    1 DESC;\n",
    "\"\"\"\n",
    "\n",
    "spark.sql(query).show()"
   ]
  },
  {
   "cell_type": "code",
   "execution_count": 91,
   "id": "bdc11de8",
   "metadata": {},
   "outputs": [
    {
     "name": "stdout",
     "output_type": "stream",
     "text": [
      "+----------------+\n",
      "|count(review_id)|\n",
      "+----------------+\n",
      "|           99224|\n",
      "+----------------+\n",
      "\n"
     ]
    }
   ],
   "source": [
    "spark.sql(\"SELECT COUNT(review_id) FROM order_reviews\").show()"
   ]
  },
  {
   "cell_type": "code",
   "execution_count": 96,
   "id": "8514c5e3",
   "metadata": {},
   "outputs": [
    {
     "data": {
      "text/plain": [
       "'리뷰에 제목이 있는 글 | 11.658469725066515% |'"
      ]
     },
     "execution_count": 96,
     "metadata": {},
     "output_type": "execute_result"
    }
   ],
   "source": [
    "'리뷰에 제목이 있는 글 | ' + str((11568  / 99224) * 100) + '% |'"
   ]
  },
  {
   "cell_type": "code",
   "execution_count": 98,
   "id": "f04f5843",
   "metadata": {},
   "outputs": [
    {
     "name": "stdout",
     "output_type": "stream",
     "text": [
      "+-----+--------------------+-------------+--------------------+--------------------+-------------------+------+-------------+\n",
      "|index|            order_id|order_item_id|          product_id|           seller_id|shipping_limit_date| price|freight_value|\n",
      "+-----+--------------------+-------------+--------------------+--------------------+-------------------+------+-------------+\n",
      "|    0|00010242fe8c5a6d1...|            1|4244733e06e7ecb49...|48436dade18ac8b2b...|2017-09-19 09:45:35|  58.9|        13.29|\n",
      "|    1|00018f77f2f0320c5...|            1|e5f2d52b802189ee6...|dd7ddc04e1b6c2c61...|2017-05-03 11:05:13| 239.9|        19.93|\n",
      "|    2|000229ec398224ef6...|            1|c777355d18b72b67a...|5b51032eddd242adc...|2018-01-18 14:48:30| 199.0|        17.87|\n",
      "|    3|00024acbcdf0a6daa...|            1|7634da152a4610f15...|9d7a1d34a50524090...|2018-08-15 10:10:18| 12.99|        12.79|\n",
      "|    4|00042b26cf59d7ce6...|            1|ac6c3623068f30de0...|df560393f3a51e745...|2017-02-13 13:57:51| 199.9|        18.14|\n",
      "|    5|00048cc3ae777c65d...|            1|ef92defde845ab845...|6426d21aca402a131...|2017-05-23 03:55:27|  21.9|        12.69|\n",
      "|    6|00054e8431b9d7675...|            1|8d4f2bb7e93e6710a...|7040e82f899a04d1b...|2017-12-14 12:10:31|  19.9|        11.85|\n",
      "|    7|000576fe39319847c...|            1|557d850972a7d6f79...|5996cddab893a4652...|2018-07-10 12:30:45| 810.0|        70.75|\n",
      "|    8|0005a1a1728c9d785...|            1|310ae3c140ff94b03...|a416b6a846a117243...|2018-03-26 18:31:29|145.95|        11.65|\n",
      "|    9|0005f50442cb953dc...|            1|4535b0e1091c278df...|ba143b05f0110f0dc...|2018-07-06 14:10:56| 53.99|         11.4|\n",
      "|   10|00061f2a7bc09da83...|            1|d63c1011f49d98b97...|cc419e0650a3c5ba7...|2018-03-29 22:28:09| 59.99|         8.88|\n",
      "|   11|00063b381e2406b52...|            1|f177554ea93259a5b...|8602a61d680a10a82...|2018-07-31 17:30:39|  45.0|        12.98|\n",
      "|   12|0006ec9db01a64e59...|            1|99a4788cb24856965...|4a3ca9315b744ce9f...|2018-07-26 17:24:20|  74.0|        23.32|\n",
      "|   13|0008288aa423d2a3f...|            1|368c6c730842d7801...|1f50f920176fa81da...|2018-02-21 02:55:52|  49.9|        13.37|\n",
      "|   14|0008288aa423d2a3f...|            2|368c6c730842d7801...|1f50f920176fa81da...|2018-02-21 02:55:52|  49.9|        13.37|\n",
      "|   15|0009792311464db53...|            1|8cab8abac59158715...|530ec6109d11eaaf8...|2018-08-17 12:15:10|  99.9|        27.65|\n",
      "|   16|0009c9a17f916a706...|            1|3f27ac8e699df3d30...|fcb5ace8bcc92f757...|2018-05-02 09:31:53| 639.0|        11.34|\n",
      "|   17|000aed2e25dbad2f9...|            1|4fa33915031a8cde0...|fe2032dab1a61af87...|2018-05-16 20:57:03| 144.0|         8.77|\n",
      "|   18|000c3e6612759851c...|            1|b50c950aba0dcead2...|218d46b86c1881d02...|2017-08-21 03:33:13|  99.0|        13.71|\n",
      "|   19|000e562887b1f2006...|            1|5ed9eaf534f6936b5...|8cbac7e12637ed9cf...|2018-02-28 12:08:37|  25.0|        16.11|\n",
      "+-----+--------------------+-------------+--------------------+--------------------+-------------------+------+-------------+\n",
      "only showing top 20 rows\n",
      "\n"
     ]
    }
   ],
   "source": [
    "spark.sql(\"SELECT * FROM order_items\").show()"
   ]
  },
  {
   "cell_type": "code",
   "execution_count": 101,
   "id": "68e1012c",
   "metadata": {},
   "outputs": [
    {
     "name": "stderr",
     "output_type": "stream",
     "text": [
      "[Stage 122:======================================>                  (2 + 1) / 3]\r"
     ]
    },
    {
     "name": "stdout",
     "output_type": "stream",
     "text": [
      "+--------------------+-------------+------------+----------+\n",
      "|            order_id|count_product|count_seller|count_item|\n",
      "+--------------------+-------------+------------+----------+\n",
      "|cf5c8d9f52807cb2d...|            6|           5|         6|\n",
      "|1c11d0f4353b31ac3...|            6|           5|         7|\n",
      "|8c2b13adf3f377c8f...|            4|           4|         4|\n",
      "|1d23106803c48c391...|            4|           4|         4|\n",
      "|91be51c856a90d7ef...|            4|           4|         4|\n",
      "|2b0d2d60eaf705257...|            3|           3|         5|\n",
      "|14f0429b74bbb8626...|            3|           3|         3|\n",
      "|62ce4e3989a347792...|            3|           3|         6|\n",
      "|70b7e94ea46d3e8b5...|            3|           3|         3|\n",
      "|306b4ec62d908535f...|            3|           3|         3|\n",
      "|d4ab53c2b21a94c8b...|            4|           3|         4|\n",
      "|309b9de8813533826...|            3|           3|         5|\n",
      "|9d817e85739426de1...|            3|           3|         3|\n",
      "|cbb7694680a105281...|            3|           3|         3|\n",
      "|0758015124a0c9af7...|            3|           3|         3|\n",
      "|ddb33b0aa1ca62272...|            4|           3|         4|\n",
      "|30bdf3d824d824610...|            3|           3|        10|\n",
      "|d839ea07a528e914f...|            3|           3|         4|\n",
      "|589eac637e68da58a...|            3|           3|         3|\n",
      "|d4de2f5093e11fecf...|            3|           3|         3|\n",
      "+--------------------+-------------+------------+----------+\n",
      "only showing top 20 rows\n",
      "\n"
     ]
    },
    {
     "name": "stderr",
     "output_type": "stream",
     "text": [
      "\r",
      "[Stage 125:===================>                                     (1 + 2) / 3]\r",
      "\r",
      "                                                                                \r"
     ]
    }
   ],
   "source": [
    "query = \"\"\"\n",
    "SELECT \n",
    "    order_id,\n",
    "    COUNT(DISTINCT(product_id)) as count_product,\n",
    "    COUNT(DISTINCT(seller_id)) as count_seller,\n",
    "    MAX(order_item_id) as count_item\n",
    "FROM \n",
    "    order_items\n",
    "GROUP BY \n",
    "    order_id\n",
    "ORDER BY \n",
    "3 DESC;\n",
    "\"\"\"\n",
    "\n",
    "spark.sql(query).show()"
   ]
  },
  {
   "cell_type": "code",
   "execution_count": 105,
   "id": "abe69b85",
   "metadata": {},
   "outputs": [
    {
     "name": "stderr",
     "output_type": "stream",
     "text": [
      "[Stage 135:======================================>                  (2 + 1) / 3]\r"
     ]
    },
    {
     "name": "stdout",
     "output_type": "stream",
     "text": [
      "+--------------------+------------------+------------------+-------------------+---------+-----------+\n",
      "|            order_id|sellers_per_orders|product_per_orders|     shipping_limit|avg_price|avg_freight|\n",
      "+--------------------+------------------+------------------+-------------------+---------+-----------+\n",
      "|00018f77f2f0320c5...|                 1|                 1|2017-05-03 11:05:13|    239.9|      19.93|\n",
      "|00042b26cf59d7ce6...|                 1|                 1|2017-02-13 13:57:51|    199.9|      18.14|\n",
      "|00054e8431b9d7675...|                 1|                 1|2017-12-14 12:10:31|     19.9|      11.85|\n",
      "|0005a1a1728c9d785...|                 1|                 1|2018-03-26 18:31:29|   145.95|      11.65|\n",
      "|0005f50442cb953dc...|                 1|                 1|2018-07-06 14:10:56|    53.99|       11.4|\n",
      "|00063b381e2406b52...|                 1|                 1|2018-07-31 17:30:39|     45.0|      12.98|\n",
      "|0006ec9db01a64e59...|                 1|                 1|2018-07-26 17:24:20|     74.0|      23.32|\n",
      "|000aed2e25dbad2f9...|                 1|                 1|2018-05-16 20:57:03|    144.0|       8.77|\n",
      "|000f25f4d72195062...|                 1|                 1|2018-03-21 11:10:11|   119.99|       44.4|\n",
      "|00143d0f86d6fbd9f...|                 1|                 1|2017-10-20 16:07:52|    21.33|       15.1|\n",
      "|0014ae671de39511f...|                 1|                 1|2017-05-29 03:15:24|     16.5|       14.1|\n",
      "|0015ebb40fb17286b...|                 1|                 1|2018-01-18 09:11:24|     21.9|       15.1|\n",
      "|001ac194d4a326a6f...|                 1|                 1|2018-07-10 02:51:10|     54.0|       8.54|\n",
      "|001c85b5f68d2be0c...|                 1|                 1|2017-11-29 22:38:47|     99.0|      13.71|\n",
      "|001e7ba991be1b196...|                 1|                 1|2017-03-23 11:47:37|    195.0|      18.21|\n",
      "|001e7cf2ad6bef3ad...|                 1|                 1|2018-05-22 10:59:50|     35.9|       15.2|\n",
      "|0020a222f55eb79a3...|                 1|                 1|2017-08-21 03:03:44|    29.99|       15.1|\n",
      "|002175704e8b209f6...|                 1|                 1|2018-04-26 12:30:57|    109.9|      13.21|\n",
      "|002611a77fe03d076...|                 1|                 1|2018-03-07 02:49:09|    135.0|      21.75|\n",
      "|00276d5c3491fbf55...|                 1|                 1|2018-02-27 11:55:57|     44.9|      23.22|\n",
      "+--------------------+------------------+------------------+-------------------+---------+-----------+\n",
      "only showing top 20 rows\n",
      "\n"
     ]
    },
    {
     "name": "stderr",
     "output_type": "stream",
     "text": [
      "\r",
      "                                                                                \r"
     ]
    }
   ],
   "source": [
    "query = \"\"\"\n",
    "SELECT \n",
    "    order_id,\n",
    "    COUNT(DISTINCT(seller_id)) AS sellers_per_orders,\n",
    "    COUNT(DISTINCT(product_id)) AS product_per_orders,\n",
    "    MAX(shipping_limit_date) AS shipping_limit,\n",
    "    AVG(price) AS avg_price,\n",
    "    AVG(freight_value) AS avg_freight\n",
    "    \n",
    "FROM \n",
    "    order_items\n",
    "GROUP BY \n",
    "    order_id;\n",
    "\"\"\"\n",
    "\n",
    "spark.sql(query).show()"
   ]
  },
  {
   "cell_type": "code",
   "execution_count": 107,
   "id": "6922abdc",
   "metadata": {},
   "outputs": [
    {
     "name": "stdout",
     "output_type": "stream",
     "text": [
      "+-----+--------------------+---------------------+-------------------+--------------------------+------------------+----------------+-----------------+-----------------+----------------+\n",
      "|index|          product_id|product_category_name|product_name_lenght|product_description_lenght|product_photos_qty|product_weight_g|product_length_cm|product_height_cm|product_width_cm|\n",
      "+-----+--------------------+---------------------+-------------------+--------------------------+------------------+----------------+-----------------+-----------------+----------------+\n",
      "|    0|1e9e8ef04dbcff454...|           perfumaria|               40.0|                     287.0|               1.0|           225.0|             16.0|             10.0|            14.0|\n",
      "|    1|3aa071139cb16b67c...|                artes|               44.0|                     276.0|               1.0|          1000.0|             30.0|             18.0|            20.0|\n",
      "|    2|96bd76ec8810374ed...|        esporte_lazer|               46.0|                     250.0|               1.0|           154.0|             18.0|              9.0|            15.0|\n",
      "|    3|cef67bcfe19066a93...|                bebes|               27.0|                     261.0|               1.0|           371.0|             26.0|              4.0|            26.0|\n",
      "|    4|9dc1a7de274444849...| utilidades_domest...|               37.0|                     402.0|               4.0|           625.0|             20.0|             17.0|            13.0|\n",
      "|    5|41d3672d4792049fa...| instrumentos_musi...|               60.0|                     745.0|               1.0|           200.0|             38.0|              5.0|            11.0|\n",
      "|    6|732bd381ad09e530f...|           cool_stuff|               56.0|                    1272.0|               4.0|         18350.0|             70.0|             24.0|            44.0|\n",
      "|    7|2548af3e6e77a690c...|     moveis_decoracao|               56.0|                     184.0|               2.0|           900.0|             40.0|              8.0|            40.0|\n",
      "|    8|37cc742be07708b53...|     eletrodomesticos|               57.0|                     163.0|               1.0|           400.0|             27.0|             13.0|            17.0|\n",
      "|    9|8c92109888e8cdf9d...|           brinquedos|               36.0|                    1156.0|               1.0|           600.0|             17.0|             10.0|            12.0|\n",
      "|   10|14aa47b7fe5c25522...|      cama_mesa_banho|               54.0|                     630.0|               1.0|          1100.0|             16.0|             10.0|            16.0|\n",
      "|   11|03b63c5fc16691530...|                bebes|               49.0|                     728.0|               4.0|          7150.0|             50.0|             19.0|            45.0|\n",
      "|   12|cf55509ea8edaaac1...| instrumentos_musi...|               43.0|                    1827.0|               3.0|           250.0|             17.0|              7.0|            17.0|\n",
      "|   13|7bb6f29c2be577161...|     moveis_decoracao|               51.0|                    2083.0|               2.0|           600.0|             68.0|             11.0|            13.0|\n",
      "|   14|eb31436580a610f20...| construcao_ferram...|               59.0|                    1602.0|               4.0|           200.0|             17.0|              7.0|            17.0|\n",
      "|   15|3bb7f144022e67327...|        esporte_lazer|               22.0|                    3021.0|               1.0|           800.0|             16.0|              2.0|            11.0|\n",
      "|   16|6a2fb4dd53d2cdb88...|           perfumaria|               39.0|                     346.0|               2.0|           400.0|             27.0|              5.0|            20.0|\n",
      "|   17|a1b71017a84f92fd8...| informatica_acess...|               59.0|                     636.0|               1.0|           900.0|             40.0|             15.0|            20.0|\n",
      "|   18|a0736b92e52f6cead...|     moveis_decoracao|               56.0|                     296.0|               2.0|          1700.0|            100.0|              7.0|            15.0|\n",
      "|   19|f53103a77d9cf245e...|      cama_mesa_banho|               52.0|                     206.0|               1.0|           500.0|             16.0|             10.0|            16.0|\n",
      "+-----+--------------------+---------------------+-------------------+--------------------------+------------------+----------------+-----------------+-----------------+----------------+\n",
      "only showing top 20 rows\n",
      "\n"
     ]
    }
   ],
   "source": [
    "spark.sql(\"SELECT * FROM products\").show()"
   ]
  },
  {
   "cell_type": "code",
   "execution_count": 109,
   "id": "53e20804",
   "metadata": {},
   "outputs": [
    {
     "name": "stderr",
     "output_type": "stream",
     "text": [
      "\r",
      "[Stage 144:>                                                        (0 + 1) / 1]\r"
     ]
    },
    {
     "name": "stdout",
     "output_type": "stream",
     "text": [
      "+---------------------+----+\n",
      "|product_category_name| QTD|\n",
      "+---------------------+----+\n",
      "|      cama_mesa_banho|3029|\n",
      "|        esporte_lazer|2867|\n",
      "|     moveis_decoracao|2657|\n",
      "|         beleza_saude|2444|\n",
      "| utilidades_domest...|2335|\n",
      "|           automotivo|1900|\n",
      "| informatica_acess...|1639|\n",
      "|           brinquedos|1411|\n",
      "|   relogios_presentes|1329|\n",
      "|            telefonia|1134|\n",
      "|                bebes| 919|\n",
      "|           perfumaria| 868|\n",
      "| fashion_bolsas_e_...| 849|\n",
      "|            papelaria| 849|\n",
      "|           cool_stuff| 789|\n",
      "|   ferramentas_jardim| 753|\n",
      "|             pet_shop| 719|\n",
      "|                 null| 610|\n",
      "|          eletronicos| 517|\n",
      "| construcao_ferram...| 400|\n",
      "+---------------------+----+\n",
      "only showing top 20 rows\n",
      "\n"
     ]
    },
    {
     "name": "stderr",
     "output_type": "stream",
     "text": [
      "\r",
      "                                                                                \r"
     ]
    }
   ],
   "source": [
    "query = \"\"\"\n",
    "SELECT \n",
    "    product_category_name, COUNT(product_id) AS QTD\n",
    "FROM \n",
    "    products\n",
    "GROUP BY \n",
    "    product_category_name\n",
    "ORDER BY \n",
    "    2 DESC;\n",
    "\"\"\"\n",
    "\n",
    "spark.sql(query).show()"
   ]
  },
  {
   "cell_type": "code",
   "execution_count": 112,
   "id": "e0450fb1",
   "metadata": {},
   "outputs": [
    {
     "name": "stdout",
     "output_type": "stream",
     "text": [
      "+-----------------+--------------------+------------------+------------------+-----------------+------------------+------------------+\n",
      "|  avg_name_lenght|avg_description_name|    avg_photos_qty|      avg_weight_g|    avg_length_cm|     avg_height_cm|      avg_width_cm|\n",
      "+-----------------+--------------------+------------------+------------------+-----------------+------------------+------------------+\n",
      "|48.47694876472589|   771.4952846232337|2.1889861166939797|2276.4724877841513|30.81507784758263|16.937661234028347|23.196728277034204|\n",
      "+-----------------+--------------------+------------------+------------------+-----------------+------------------+------------------+\n",
      "\n"
     ]
    }
   ],
   "source": [
    "query = \"\"\"\n",
    "SELECT \n",
    "    AVG(product_name_lenght) AS avg_name_lenght,\n",
    "    AVG(product_description_lenght) AS avg_description_name,\n",
    "    AVG(product_photos_qty) AS avg_photos_qty,\n",
    "    AVG(product_weight_g) AS avg_weight_g,\n",
    "    AVG(product_length_cm) AS  avg_length_cm,\n",
    "    AVG(product_height_cm) AS avg_height_cm,\n",
    "    AVG(product_width_cm) AS avg_width_cm\n",
    "\n",
    "FROM \n",
    "    products;\n",
    "\"\"\"\n",
    "\n",
    "spark.sql(query).show()"
   ]
  },
  {
   "cell_type": "code",
   "execution_count": 115,
   "id": "95133c97",
   "metadata": {},
   "outputs": [
    {
     "name": "stdout",
     "output_type": "stream",
     "text": [
      "+-----+---------------------+-----------------------------+\n",
      "|index|product_category_name|product_category_name_english|\n",
      "+-----+---------------------+-----------------------------+\n",
      "|    0|         beleza_saude|                health_beauty|\n",
      "|    1| informatica_acess...|         computers_accesso...|\n",
      "|    2|           automotivo|                         auto|\n",
      "|    3|      cama_mesa_banho|               bed_bath_table|\n",
      "|    4|     moveis_decoracao|              furniture_decor|\n",
      "|    5|        esporte_lazer|               sports_leisure|\n",
      "|    6|           perfumaria|                    perfumery|\n",
      "|    7| utilidades_domest...|                   housewares|\n",
      "|    8|            telefonia|                    telephony|\n",
      "|    9|   relogios_presentes|                watches_gifts|\n",
      "|   10|    alimentos_bebidas|                   food_drink|\n",
      "|   11|                bebes|                         baby|\n",
      "|   12|            papelaria|                   stationery|\n",
      "|   13| tablets_impressao...|         tablets_printing_...|\n",
      "|   14|           brinquedos|                         toys|\n",
      "|   15|       telefonia_fixa|              fixed_telephony|\n",
      "|   16|   ferramentas_jardim|                 garden_tools|\n",
      "|   17| fashion_bolsas_e_...|         fashion_bags_acce...|\n",
      "|   18|      eletroportateis|             small_appliances|\n",
      "|   19|       consoles_games|               consoles_games|\n",
      "+-----+---------------------+-----------------------------+\n",
      "only showing top 20 rows\n",
      "\n"
     ]
    }
   ],
   "source": [
    "spark.sql(\"SELECT * FROM product_category_name_translation\").show()"
   ]
  },
  {
   "cell_type": "code",
   "execution_count": 117,
   "id": "73cd8bb1",
   "metadata": {},
   "outputs": [
    {
     "name": "stdout",
     "output_type": "stream",
     "text": [
      "+-----+--------------------+----------------------+-----------------+------------+\n",
      "|index|           seller_id|seller_zip_code_prefix|      seller_city|seller_state|\n",
      "+-----+--------------------+----------------------+-----------------+------------+\n",
      "|    0|3442f8959a84dea7e...|                 13023|         campinas|          SP|\n",
      "|    1|d1b65fc7debc3361e...|                 13844|       mogi guacu|          SP|\n",
      "|    2|ce3ad9de960102d06...|                 20031|   rio de janeiro|          RJ|\n",
      "|    3|c0f3eea2e14555b6f...|                  4195|        sao paulo|          SP|\n",
      "|    4|51a04a8a6bdcb23de...|                 12914|braganca paulista|          SP|\n",
      "|    5|c240c4061717ac180...|                 20920|   rio de janeiro|          RJ|\n",
      "|    6|e49c26c3edfa46d22...|                 55325|           brejao|          PE|\n",
      "|    7|1b938a7ec6ac5061a...|                 16304|        penapolis|          SP|\n",
      "|    8|768a86e36ad6aae3d...|                  1529|        sao paulo|          SP|\n",
      "|    9|ccc4bbb5f32a6ab2b...|                 80310|         curitiba|          PR|\n",
      "|   10|8cb7c5ddf41f4d506...|                 75110|         anapolis|          GO|\n",
      "|   11|a7a9b880c49781da6...|                 13530|        itirapina|          SP|\n",
      "|   12|8bd0f31cf0a614c65...|                  1222|        sao paulo|          SP|\n",
      "|   13|05a48cc8859962767...|                  5372|        sao paulo|          SP|\n",
      "|   14|7b8e8ec35bad4b0ef...|                 88705|          tubarao|          SC|\n",
      "|   15|1444c08e64d55fb3c...|                 42738| lauro de freitas|          BA|\n",
      "|   16|166e8f1381e096519...|                 88780|         imbituba|          SC|\n",
      "|   17|e38db885400cd35c7...|                 70740|         brasilia|          DF|\n",
      "|   18|d2e753bb80b7d4faa...|                 45810|     porto seguro|          BA|\n",
      "|   19|f9ec7093df3a7b346...|                  5138|        sao paulo|          SP|\n",
      "+-----+--------------------+----------------------+-----------------+------------+\n",
      "only showing top 20 rows\n",
      "\n"
     ]
    }
   ],
   "source": [
    "spark.sql(\"SELECT * FROM sellers\").show()"
   ]
  },
  {
   "cell_type": "code",
   "execution_count": 196,
   "id": "403b3bdf",
   "metadata": {},
   "outputs": [],
   "source": [
    "query = \"\"\"\n",
    "SELECT\n",
    "    product_category_name_english,\n",
    "    Total_Sales,\n",
    "    dense_rank() over w as Categ_Sales_Ranking,\n",
    "    sum(Total_Sales) over w as Accumulated_Sales\n",
    "FROM\n",
    "    (SELECT\n",
    "        product_category_name_english,\n",
    "        round(sum(payment_value), 2) as Total_Sales\n",
    "    FROM \n",
    "        products as p\n",
    "    INNER JOIN \n",
    "        product_category_name_translation as pt \n",
    "    ON \n",
    "        pt.product_category_name = p.product_category_name\n",
    "    INNER JOIN \n",
    "        order_items as oi \n",
    "    ON \n",
    "        oi.product_id = p.product_id\n",
    "    INNER JOIN \n",
    "        order_payments as pay \n",
    "    ON\n",
    "        pay.order_id = oi.order_id\n",
    "    GROUP BY \n",
    "        product_category_name_english\n",
    "    ORDER BY \n",
    "        sum(payment_value) desc) as a\n",
    "    window w as (order by Total_Sales desc);\n",
    "\"\"\""
   ]
  },
  {
   "cell_type": "code",
   "execution_count": 197,
   "id": "ea673cd4",
   "metadata": {},
   "outputs": [
    {
     "name": "stderr",
     "output_type": "stream",
     "text": [
      "23/03/24 13:36:28 WARN WindowExec: No Partition Defined for Window operation! Moving all data to a single partition, this can cause serious performance degradation.\n",
      "23/03/24 13:36:28 WARN WindowExec: No Partition Defined for Window operation! Moving all data to a single partition, this can cause serious performance degradation.\n",
      "23/03/24 13:36:33 WARN WindowExec: No Partition Defined for Window operation! Moving all data to a single partition, this can cause serious performance degradation.\n",
      "23/03/24 13:36:35 WARN WindowExec: No Partition Defined for Window operation! Moving all data to a single partition, this can cause serious performance degradation.\n",
      "23/03/24 13:36:37 WARN WindowExec: No Partition Defined for Window operation! Moving all data to a single partition, this can cause serious performance degradation.\n",
      "23/03/24 13:36:39 WARN WindowExec: No Partition Defined for Window operation! Moving all data to a single partition, this can cause serious performance degradation.\n",
      "23/03/24 13:36:41 WARN WindowExec: No Partition Defined for Window operation! Moving all data to a single partition, this can cause serious performance degradation.\n",
      "23/03/24 13:36:43 WARN WindowExec: No Partition Defined for Window operation! Moving all data to a single partition, this can cause serious performance degradation.\n",
      "23/03/24 13:36:53 WARN WindowExec: No Partition Defined for Window operation! Moving all data to a single partition, this can cause serious performance degradation.\n",
      "23/03/24 13:36:54 WARN WindowExec: No Partition Defined for Window operation! Moving all data to a single partition, this can cause serious performance degradation.\n",
      "23/03/24 13:36:59 WARN WindowExec: No Partition Defined for Window operation! Moving all data to a single partition, this can cause serious performance degradation.\n",
      "23/03/24 13:37:01 WARN WindowExec: No Partition Defined for Window operation! Moving all data to a single partition, this can cause serious performance degradation.\n",
      "23/03/24 13:37:18 WARN WindowExec: No Partition Defined for Window operation! Moving all data to a single partition, this can cause serious performance degradation.\n",
      "23/03/24 13:37:19 WARN WindowExec: No Partition Defined for Window operation! Moving all data to a single partition, this can cause serious performance degradation.\n",
      "                                                                                \r"
     ]
    },
    {
     "name": "stdout",
     "output_type": "stream",
     "text": [
      "+-----------------------------+-----------+-------------------+--------------------+\n",
      "|product_category_name_english|Total_Sales|Categ_Sales_Ranking|   Accumulated_Sales|\n",
      "+-----------------------------+-----------+-------------------+--------------------+\n",
      "|               bed_bath_table| 1712553.67|                  1|          1712553.67|\n",
      "|                health_beauty| 1657373.12|                  2|          3369926.79|\n",
      "|         computers_accesso...| 1585330.45|                  3|          4955257.24|\n",
      "|              furniture_decor| 1430176.39|                  4|          6385433.63|\n",
      "|                watches_gifts| 1429216.68|                  5|          7814650.31|\n",
      "|               sports_leisure| 1392127.56|                  6|          9206777.87|\n",
      "|                   housewares| 1094758.13|                  7|         1.0301536E7|\n",
      "|                         auto|  852294.33|                  8|       1.115383033E7|\n",
      "|                 garden_tools|  838280.75|                  9|       1.199211108E7|\n",
      "|                   cool_stuff|   779698.0|                 10|       1.277180908E7|\n",
      "|             office_furniture|  646826.49|                 11|       1.341863557E7|\n",
      "|                         toys|  619037.69|                 12|       1.403767326E7|\n",
      "|                         baby|  539845.66|                 13|       1.457751892E7|\n",
      "|                    perfumery|  506738.66|                 14|       1.508425758E7|\n",
      "|                    telephony|  486882.05|                 15|       1.557113963E7|\n",
      "|                   stationery|  317440.07|                 16|1.5888579700000001E7|\n",
      "|                     pet_shop|  311268.97|                 17|1.6199848670000002E7|\n",
      "|                    computers|  279121.55|                 18|1.6478970220000003E7|\n",
      "|                  electronics|   259857.1|                 19|1.6738827320000002E7|\n",
      "|         construction_tool...|  241475.63|                 20|1.6980302950000003E7|\n",
      "+-----------------------------+-----------+-------------------+--------------------+\n",
      "only showing top 20 rows\n",
      "\n"
     ]
    }
   ],
   "source": [
    "spark.sql(query).show()"
   ]
  },
  {
   "cell_type": "code",
   "execution_count": 208,
   "id": "5783ce49",
   "metadata": {},
   "outputs": [],
   "source": [
    "query = \"\"\"\n",
    "SELECT \n",
    "    * \n",
    "FROM\n",
    "    (SELECT\n",
    "        c.customer_id,\n",
    "        FIRST(o.order_id),\n",
    "        FIRST(c.customer_state),\n",
    "        FIRST(cat.product_category_name_english),\n",
    "        sum(payment_value) as Total_Payment_Value\n",
    "    FROM \n",
    "        order_payments as p\n",
    "    INNER JOIN \n",
    "        orders as o \n",
    "    ON \n",
    "        o.order_id = p.order_id\n",
    "    INNER JOIN \n",
    "        customers as c \n",
    "    ON \n",
    "        c.customer_id = o.customer_id\n",
    "    INNER JOIN \n",
    "        order_items as oi \n",
    "    ON \n",
    "        oi.order_id = p.order_id\n",
    "    INNER JOIN \n",
    "        products as p\n",
    "    ON p.product_id = oi.product_id\n",
    "    INNER JOIN \n",
    "        product_category_name_translation as cat \n",
    "    ON cat.product_category_name = p.product_category_name\n",
    "    GROUP BY \n",
    "        c.customer_id) AS a\n",
    "WHERE Total_Payment_Value > 1000;\n",
    "\"\"\""
   ]
  },
  {
   "cell_type": "code",
   "execution_count": 209,
   "id": "832ced35",
   "metadata": {},
   "outputs": [
    {
     "name": "stderr",
     "output_type": "stream",
     "text": [
      "                                                                                \r"
     ]
    },
    {
     "name": "stdout",
     "output_type": "stream",
     "text": [
      "+--------------------+--------------------+---------------------+------------------------------------+-------------------+\n",
      "|         customer_id|     first(order_id)|first(customer_state)|first(product_category_name_english)|Total_Payment_Value|\n",
      "+--------------------+--------------------+---------------------+------------------------------------+-------------------+\n",
      "|000598caf2ef41174...|9b961b894e797f636...|                   MG|                            pet_shop|            1255.71|\n",
      "|0049e8442c2a3e4a8...|442693e8e705ad1f9...|                   SP|                           computers|            1250.81|\n",
      "|00c634fb2feeb4e27...|dd4d3cf66aa23e931...|                   RJ|                       health_beauty|            1318.06|\n",
      "|00f394e6fc446865a...|a29c25c2c9c3100da...|                   RJ|                       health_beauty|             1449.5|\n",
      "|01095519ab7592741...|95820ac4fd93f004a...|                   SP|                computers_accesso...| 2002.6799999999998|\n",
      "|010be179fab38706a...|7cb72e0bbd081c148...|                   RJ|                       health_beauty|            1391.13|\n",
      "|016025d2b068f9049...|5d4c85dc3fb910933...|                   PR|                                auto|            7667.84|\n",
      "|018d3918d60c2e821...|e6acd035a11603d3f...|                   RJ|                        garden_tools|            1022.65|\n",
      "|0192827582be43c21...|a669137c06cc23b79...|                   RJ|                                toys|             3206.0|\n",
      "|023fafd700dff9fcc...|4c374f090868ac5a5...|                   SP|                computers_accesso...|             3487.5|\n",
      "|02af4338e00cfed3a...|b03614607ed7a3625...|                   AL|                       watches_gifts|            1198.36|\n",
      "|0355544e5f4818d95...|837d0f47af4d0d6a1...|                   SP|                costruction_tools...|            1354.25|\n",
      "|038040c89822d9d8f...|6703cbd67193e32ea...|                   SP|                   home_appliances_2|            2213.22|\n",
      "|03a6f3a3935165f5d...|83167649ca3fb63d1...|                   SP|                     fixed_telephony|            12834.5|\n",
      "|03fe220603b22a09e...|2a940654991b7eaeb...|                   RJ|                costruction_tools...|            1249.36|\n",
      "|042b53f9e609289d8...|b1a7bd6a9d10076c9...|                   RJ|                    office_furniture|            1030.64|\n",
      "|043227bab04086b2f...|195ff45c167e808ee...|                   GO|                                toys| 1008.9300000000001|\n",
      "|04889e0130acf2e7b...|2e7a373242af9032c...|                   PR|                 musical_instruments|            2048.12|\n",
      "|0551eb34013c485ca...|cf49bdb4bd3a57ea5...|                   PR|                computers_accesso...| 2455.1499999999996|\n",
      "|05748049eafd0da8f...|10247742e08ee3222...|                   RS|                        garden_tools|            1817.54|\n",
      "+--------------------+--------------------+---------------------+------------------------------------+-------------------+\n",
      "only showing top 20 rows\n",
      "\n"
     ]
    }
   ],
   "source": [
    "spark.sql(query).show()"
   ]
  },
  {
   "cell_type": "code",
   "execution_count": 131,
   "id": "302e2736",
   "metadata": {},
   "outputs": [
    {
     "name": "stderr",
     "output_type": "stream",
     "text": [
      "                                                                                \r"
     ]
    },
    {
     "name": "stdout",
     "output_type": "stream",
     "text": [
      "+--------------------+--------------------+------------+--------+------------------+------------------+------------------+------------------+------------------+------------------+\n",
      "|                  id|         seller_city|seller_state|order_id|         sum_price|               f_v|         avg_price|           avg_f_v|           sum_p_v|           avg_p_v|\n",
      "+--------------------+--------------------+------------+--------+------------------+------------------+------------------+------------------+------------------+------------------+\n",
      "|4a3ca9315b744ce9f...|            ibitinga|          SP|    2133|213299.56999999427| 37335.72000000001| 99.99979840599825| 17.50385372714487| 301245.2700000021| 141.2307876230671|\n",
      "|6560211a19b47992c...|           sao paulo|          SP|    2122|128489.82000000004|29277.639999999785| 60.55128180961359|13.797191328934865|179657.75000000073| 84.66434967012287|\n",
      "|1f50f920176fa81da...|sao jose do rio p...|          SP|    2008|  111435.809999997| 37274.84999999953| 55.49592131473954| 18.56317231075674| 290253.4200000018|144.54851593625588|\n",
      "|cc419e0650a3c5ba7...|         santo andre|          SP|    1847|108439.73000000301| 26658.65999999998|  58.7112777477006|14.433492149431501|141309.57999999978| 76.50762317271239|\n",
      "|da8622b14eb17ae28...|          piracicaba|          SP|    1639| 169297.7699999949|26453.280000000028| 103.2933312995698|16.139890176937175|272219.31999999995|166.08866381940203|\n",
      "|955fee9216a65b617...|           sao paulo|          SP|    1528| 137334.9999999991|25848.530000000057|  89.8789267015701|16.916577225130926|236322.29999999984|154.66119109947633|\n",
      "|1025f0e2d44d7041d...|           sao paulo|          SP|    1462|142130.93999999948| 34714.98000000006| 97.21678522571784|23.744856361149154| 308222.0400000005| 210.8221887824901|\n",
      "|7c67e1448b00f6e96...|     itaquaquecetuba|          SP|    1452|198194.32999999897| 54354.98999999974|136.49747245178992|  37.4345661157023|         507166.91| 349.2885055096419|\n",
      "|7a67c85e85bb2ce85...|           sao paulo|          SP|    1240|149939.84000000104|22073.410000000003|120.91922580645246|17.801137096774195|          169030.8|136.31516129032258|\n",
      "|ea8482cd71df3c196...|           sao paulo|          SP|    1239|  38227.8800000004|18109.690000000013|30.853817594834865|14.616376109765952| 61672.80999999931| 49.77627925746514|\n",
      "|3d871de0142ce09b7...|campo limpo paulista|          SP|    1204| 99387.59999999957|23533.169999999936|  82.5478405315611| 19.54582225913616|131982.15000000037|109.61972591362156|\n",
      "|4869f7a5dfa277a7d...|             guariba|          SP|    1186|  237867.229999998|20758.289999999957|200.56258853288196|17.502774030354097| 264166.1200000002|222.73703204047237|\n",
      "|8b321bb669392f516...|           sao paulo|          SP|    1031|17757.619999999955|14361.290000000048| 17.22368574199802|13.929476236663481| 39512.01000000011|38.323967022308544|\n",
      "|cca3071e3e9bb7d12...|            ibitinga|          SP|     882| 67581.44000000044| 15164.75000000004| 76.62294784580548|17.193594104308435|107125.38999999994|121.45735827664393|\n",
      "|620c87c171fb2a6dd...|          petropolis|          RJ|     825|118979.79999999827|14582.190000000019|144.21793939393729| 17.67538181818184|145267.94999999992|176.08236363636354|\n",
      "|a1043bafd471dff53...|            ilicinea|          MG|     808| 106813.9400000006| 33813.53999999996|132.19547029703045|41.848440594059355| 154356.9100000001|191.03577970297042|\n",
      "|e9779976487b77c6d...|        praia grande|          SP|     763| 43791.77000000002|10323.080000000029| 57.39419397116647|13.529593709043288| 66979.96999999986| 87.78501965923965|\n",
      "|f8db351d8c4c4c22c...|               salto|          SP|     761|52295.900000000685|13048.640000000034| 68.71997371879196|17.146701708278627|  76665.1899999999|100.74269382391577|\n",
      "|d2374cbcbb3ca4ab1...|            ibitinga|          SP|     671|22676.090000000142| 10253.56000000004| 33.79447093889738|15.281013412816751| 54172.16999999996| 80.73348733233973|\n",
      "|391fc6631aebcf300...|            ibitinga|          SP|     630| 40787.80000000003|10459.310000000041| 64.74253968253973| 16.60207936507943|  70856.0500000001| 112.4699206349208|\n",
      "+--------------------+--------------------+------------+--------+------------------+------------------+------------------+------------------+------------------+------------------+\n",
      "only showing top 20 rows\n",
      "\n"
     ]
    },
    {
     "name": "stderr",
     "output_type": "stream",
     "text": [
      "\r",
      "[Stage 209:======================================>                  (2 + 1) / 3]\r",
      "\r",
      "                                                                                \r"
     ]
    }
   ],
   "source": [
    "query = \"\"\"\n",
    "SELECT \n",
    "    i.seller_id AS id,\n",
    "    FIRST(s.seller_city) AS seller_city,\n",
    "    FIRST(s.seller_state) AS seller_state,\n",
    "    COUNT(i.order_id) AS order_id,\n",
    "    SUM(i.price) AS sum_price,\n",
    "    SUM(i.freight_value) AS f_v,\n",
    "    AVG(i.price) AS avg_price,\n",
    "    AVG(i.freight_value) avg_f_v,\n",
    "    SUM(p.payment_value) sum_p_v,\n",
    "    AVG(p.payment_value) AS avg_p_v\n",
    "\n",
    "FROM \n",
    "    order_items as i\n",
    "    INNER JOIN \n",
    "        sellers as s\n",
    "    ON \n",
    "        i.seller_id = s.seller_id\n",
    "    INNER JOIN \n",
    "        order_payments as p\n",
    "    ON \n",
    "        p.order_id = i.order_id\n",
    "GROUP BY \n",
    "    i.seller_id\n",
    "ORDER BY \n",
    "    COUNT(i.order_id) DESC;\n",
    "\"\"\"\n",
    "\n",
    "spark.sql(query).show()"
   ]
  },
  {
   "cell_type": "code",
   "execution_count": 126,
   "id": "f995f740",
   "metadata": {},
   "outputs": [
    {
     "name": "stderr",
     "output_type": "stream",
     "text": [
      "                                                                                \r"
     ]
    },
    {
     "name": "stdout",
     "output_type": "stream",
     "text": [
      "+--------------------+---------------------------+------------------------+--------------------------+-----------------------------+\n",
      "|  customer_unique_id|count(DISTINCT customer_id)|count(DISTINCT order_id)|count(DISTINCT product_id)|max(order_purchase_timestamp)|\n",
      "+--------------------+---------------------------+------------------------+--------------------------+-----------------------------+\n",
      "|8d50f5eadf50201cc...|                         16|                      16|                        15|          2018-08-20 19:14:26|\n",
      "|3e43e6105506432c9...|                          9|                       9|                        13|          2018-02-27 18:36:39|\n",
      "|1b6c7548a2a1f9037...|                          7|                       7|                         9|          2018-02-14 13:22:12|\n",
      "|6469f99c1f9dfae77...|                          7|                       7|                         5|          2018-06-28 00:43:34|\n",
      "|ca77025e7201e3b30...|                          7|                       7|                         9|          2018-06-01 11:38:29|\n",
      "|f0e310a6839dce9de...|                          6|                       6|                         6|          2018-04-05 09:04:45|\n",
      "|47c1a3033b8b77b3a...|                          6|                       6|                         7|          2018-01-24 15:15:26|\n",
      "|63cfc61cee11cbe30...|                          6|                       6|                         6|          2018-05-28 17:20:02|\n",
      "|12f5d6e1cbf93dafd...|                          6|                       6|                         5|          2017-01-05 15:25:10|\n",
      "|dc813062e0fc23409...|                          6|                       6|                         5|          2018-08-23 00:07:26|\n",
      "|de34b16117594161a...|                          5|                       5|                         5|          2018-01-17 23:34:21|\n",
      "|56c8638e7c058b98a...|                          5|                       5|                         4|          2018-04-19 18:54:32|\n",
      "|394ac4de8f3acb142...|                          5|                       5|                         5|          2018-08-15 18:01:23|\n",
      "|fe81bb32c243a86b2...|                          5|                       5|                         4|          2018-06-21 12:10:25|\n",
      "|4e65032f1f574189f...|                          5|                       5|                         4|          2018-06-14 09:28:49|\n",
      "|5e8f38a9a1c023f3d...|                          5|                       5|                         5|          2018-03-06 14:40:32|\n",
      "|b4e4f24de1e8725b7...|                          5|                       5|                         5|          2018-03-30 20:48:54|\n",
      "|74cb1ad7e6d567432...|                          5|                       5|                         5|          2018-04-03 01:16:22|\n",
      "|35ecdf6858edc6427...|                          5|                       5|                         6|          2018-03-31 21:18:49|\n",
      "|9cc5a07f169a1606f...|                          4|                       4|                         4|          2018-08-22 01:37:38|\n",
      "+--------------------+---------------------------+------------------------+--------------------------+-----------------------------+\n",
      "only showing top 20 rows\n",
      "\n"
     ]
    }
   ],
   "source": [
    "query = \"\"\"\n",
    "\n",
    "SELECT \n",
    "  c.customer_unique_id , \n",
    "  COUNT(DISTINCT(c.customer_id)) ,\n",
    "  COUNT(DISTINCT(o.order_id)) ,\n",
    "  COUNT(DISTINCT(i.product_id)),\n",
    "  MAX(order_purchase_timestamp)\n",
    "  \n",
    "FROM \n",
    "    customers AS c\n",
    "    INNER JOIN \n",
    "        orders AS o\n",
    "    ON \n",
    "        c.customer_id = o.customer_id\n",
    "    INNER JOIN \n",
    "        order_items AS i\n",
    "    ON \n",
    "        o.order_id = i.order_id\n",
    "        \n",
    "GROUP BY \n",
    "    c.customer_unique_id\n",
    "HAVING \n",
    "    COUNT(DISTINCT(i.product_id)) > 1\n",
    "ORDER BY \n",
    "    3 DESC;\n",
    "\"\"\"\n",
    "\n",
    "spark.sql(query).show()"
   ]
  },
  {
   "cell_type": "code",
   "execution_count": 133,
   "id": "13b0daf6",
   "metadata": {},
   "outputs": [
    {
     "name": "stdout",
     "output_type": "stream",
     "text": [
      "+-----+--------------------+--------------------+------------------------+-------------+--------------+\n",
      "|index|         customer_id|  customer_unique_id|customer_zip_code_prefix|customer_city|customer_state|\n",
      "+-----+--------------------+--------------------+------------------------+-------------+--------------+\n",
      "|14186|1bd3585471932167a...|8d50f5eadf50201cc...|                    4045|    sao paulo|            SP|\n",
      "|15321|a8fabc805e9a10a3c...|8d50f5eadf50201cc...|                    4045|    sao paulo|            SP|\n",
      "|16654|897b7f72042714efa...|8d50f5eadf50201cc...|                    4045|    sao paulo|            SP|\n",
      "|36122|b2b13de0770e06de5...|8d50f5eadf50201cc...|                    4045|    sao paulo|            SP|\n",
      "|38073|42dbc1ad9d560637c...|8d50f5eadf50201cc...|                    4045|    sao paulo|            SP|\n",
      "|40141|dfb941d6f7b02f57a...|8d50f5eadf50201cc...|                    4045|    sao paulo|            SP|\n",
      "|48614|65f9db9dd07a4e79b...|8d50f5eadf50201cc...|                    4045|    sao paulo|            SP|\n",
      "|52574|1c62b48fb34ee0433...|8d50f5eadf50201cc...|                    4045|    sao paulo|            SP|\n",
      "|58707|a682769c4bc10fc6e...|8d50f5eadf50201cc...|                    4045|    sao paulo|            SP|\n",
      "|67996|6289b75219d757a56...|8d50f5eadf50201cc...|                    4045|    sao paulo|            SP|\n",
      "|72745|3414a9c813e3ca025...|8d50f5eadf50201cc...|                    4045|    sao paulo|            SP|\n",
      "|74510|0e4fdc084a6b9329e...|8d50f5eadf50201cc...|                    4045|    sao paulo|            SP|\n",
      "|83363|f5188d99e9281e214...|8d50f5eadf50201cc...|                    4045|    sao paulo|            SP|\n",
      "|85507|89be66634d68fa73a...|8d50f5eadf50201cc...|                    4045|    sao paulo|            SP|\n",
      "|90268|0bf8bf19944a7f8b4...|8d50f5eadf50201cc...|                    4045|    sao paulo|            SP|\n",
      "|93591|9a1afef458843a022...|8d50f5eadf50201cc...|                    4045|    sao paulo|            SP|\n",
      "|96652|31dd055624c66f291...|8d50f5eadf50201cc...|                    4045|    sao paulo|            SP|\n",
      "+-----+--------------------+--------------------+------------------------+-------------+--------------+\n",
      "\n"
     ]
    }
   ],
   "source": [
    "query = \"\"\"\n",
    "SELECT \n",
    "    *\n",
    "FROM \n",
    "    customers\n",
    "WHERE \n",
    "    customer_unique_id == '8d50f5eadf50201ccdcedfb9e2ac8455'\n",
    "\"\"\"\n",
    "\n",
    "spark.sql(query).show()"
   ]
  },
  {
   "cell_type": "code",
   "execution_count": 194,
   "id": "b97a6e26",
   "metadata": {},
   "outputs": [],
   "source": [
    "query = \"\"\"\n",
    "WITH Location AS (\n",
    "SELECT \n",
    "    o.order_purchase_timestamp,\n",
    "    i.order_id,\n",
    "    s.seller_city,\n",
    "    s.seller_state,\n",
    "    c.customer_city,\n",
    "    c.customer_state,\n",
    "\n",
    "    CASE WHEN s.seller_city = c.customer_city AND s.seller_state = c.customer_state THEN 1 ELSE 0 END same_city,\n",
    "    CASE WHEN s.seller_state = c.customer_state THEN 1 ELSE 0 END same_state\n",
    "\n",
    "FROM \n",
    "    orders AS o\n",
    "    INNER JOIN \n",
    "        order_items AS i\n",
    "    ON \n",
    "      o.order_id = i.order_id\n",
    "    LEFT JOIN \n",
    "        customers AS c\n",
    "    ON \n",
    "        o.customer_id = c.customer_id\n",
    "    LEFT JOIN \n",
    "        sellers AS s\n",
    "    ON \n",
    "        i.seller_id = s.seller_id\n",
    "    WHERE CAST(YEAR(o.order_purchase_timestamp) AS int) >= 2018\n",
    "ORDER BY \n",
    "    o.order_purchase_timestamp DESC, i.order_id ASC, i.order_item_id ASC\n",
    ")\n",
    "\n",
    "SELECT \n",
    "\n",
    "  o.order_id,\n",
    "  FIRST(o.order_status) AS status,\n",
    "  FIRST(o.order_purchase_timestamp) AS purchase,\n",
    "  FIRST(o.order_approved_at) AS approved,\n",
    "  FIRST(o.order_delivered_carrier_date) AS delivered_carrier,\n",
    "  FIRST(o.order_delivered_customer_date) AS delivered_customer,\n",
    "  FIRST(o.order_estimated_delivery_date) AS delivery_estimated,\n",
    "\n",
    "  CASE WHEN MAX(p.payment_sequential) = 1 THEN 0 ELSE 1 END AS has_sequential,\n",
    "  CASE WHEN MAX(p.payment_installments) = 1 THEN 0 ELSE 1 END AS has_installments,\n",
    "  MAX(p.payment_value) as last_payment,\n",
    "  \n",
    "  MAX(r.review_score) as score,\n",
    "\n",
    "  COUNT(DISTINCT(i.seller_id)) as sellers_per_order,\n",
    "  COUNT(DISTINCT(i.product_id)) as product_per_order,\n",
    "  MAX(i.shipping_limit_date) as shipping_limit,\n",
    "  AVG(i.price) AS avg_price,\n",
    "  AVG(i.freight_value) AS avg_freight,\n",
    "\n",
    "  AVG(pd.product_name_lenght) AS avg_name_lenght,\n",
    "  AVG(pd.product_description_lenght) AS avg_description_name,\n",
    "  AVG(pd.product_photos_qty) AS avg_photos_qty,\n",
    "  AVG(pd.product_weight_g) AS avg_weight_g,\n",
    "  AVG(pd.product_length_cm) AS  avg_length_cm,\n",
    "  AVG(pd.product_height_cm) AS avg_height_cm,\n",
    "  AVG(pd.product_width_cm) AS avg_width_cm,\n",
    "\n",
    "  AVG(same_city) AS avg_same_city,\n",
    "  AVG(same_state) AS avg_same_state\n",
    "  \n",
    "FROM \n",
    "    orders AS o\n",
    "    LEFT JOIN \n",
    "        order_payments AS p\n",
    "    ON \n",
    "        p.order_id = o.order_id\n",
    "    LEFT JOIN \n",
    "        order_reviews AS r\n",
    "    ON \n",
    "        r.order_id = o.order_id\n",
    "    LEFT JOIN \n",
    "        order_items AS i\n",
    "    ON \n",
    "        i.order_id = o.order_id\n",
    "    LEFT JOIN \n",
    "        products AS pd\n",
    "    ON \n",
    "        i.product_id = pd.product_id\n",
    "    LEFT JOIN \n",
    "        Location AS l\n",
    "    ON o.order_id = l.order_id\n",
    "\n",
    "WHERE CAST(YEAR(o.order_purchase_timestamp) AS int) >= 2018\n",
    "GROUP BY \n",
    "    o.order_id\n",
    "-- ORDER BY o.order_purchase_timestamp DESC;\n",
    "\"\"\""
   ]
  },
  {
   "cell_type": "code",
   "execution_count": 195,
   "id": "8d444b74",
   "metadata": {},
   "outputs": [
    {
     "name": "stderr",
     "output_type": "stream",
     "text": [
      "23/03/24 13:30:17 WARN package: Truncated the string representation of a plan since it was too large. This behavior can be adjusted by setting 'spark.sql.debug.maxToStringFields'.\n",
      "                                                                                \r"
     ]
    },
    {
     "name": "stdout",
     "output_type": "stream",
     "text": [
      "+--------------------+---------+-------------------+-------------------+-------------------+-------------------+-------------------+--------------+----------------+------------+-----+-----------------+-----------------+-------------------+---------+-----------+---------------+--------------------+--------------+------------+-------------+-------------+------------+-------------+--------------+\n",
      "|            order_id|   status|           purchase|           approved|  delivered_carrier| delivered_customer| delivery_estimated|has_sequential|has_installments|last_payment|score|sellers_per_order|product_per_order|     shipping_limit|avg_price|avg_freight|avg_name_lenght|avg_description_name|avg_photos_qty|avg_weight_g|avg_length_cm|avg_height_cm|avg_width_cm|avg_same_city|avg_same_state|\n",
      "+--------------------+---------+-------------------+-------------------+-------------------+-------------------+-------------------+--------------+----------------+------------+-----+-----------------+-----------------+-------------------+---------+-----------+---------------+--------------------+--------------+------------+-------------+-------------+------------+-------------+--------------+\n",
      "|0005a1a1728c9d785...|delivered|2018-03-19 18:40:33|2018-03-20 18:35:21|2018-03-28 00:37:42|2018-03-29 18:17:31|2018-03-29 00:00:00|             0|               1|       157.6|    1|                1|                1|2018-03-26 18:31:29|   145.95|      11.65|           59.0|               493.0|           1.0|      2000.0|         30.0|         12.0|        16.0|          0.0|           1.0|\n",
      "|0005f50442cb953dc...|delivered|2018-07-02 13:59:39|2018-07-02 14:10:56|2018-07-03 14:25:00|2018-07-04 17:28:31|2018-07-23 00:00:00|             0|               0|       65.39|    4|                1|                1|2018-07-06 14:10:56|    53.99|       11.4|           52.0|              1192.0|           1.0|       850.0|         29.0|          3.0|        21.0|          0.0|           1.0|\n",
      "|00063b381e2406b52...|delivered|2018-07-27 17:21:27|2018-07-27 18:00:06|2018-07-30 14:52:00|2018-08-07 13:56:52|2018-08-07 00:00:00|             0|               1|       57.98|    5|                1|                1|2018-07-31 17:30:39|     45.0|      12.98|           35.0|                60.0|           1.0|       200.0|         16.0|         16.0|        11.0|          0.0|           1.0|\n",
      "|0006ec9db01a64e59...|delivered|2018-07-24 17:04:17|2018-07-24 17:24:20|2018-07-25 11:02:00|2018-07-31 01:04:15|2018-08-22 00:00:00|             0|               1|       97.32|    5|                1|                1|2018-07-26 17:24:20|     74.0|      23.32|           54.0|               245.0|           1.0|      1383.0|         50.0|         10.0|        40.0|          0.0|           0.0|\n",
      "|000aed2e25dbad2f9...|delivered|2018-05-11 20:33:38|2018-05-11 20:57:03|2018-05-16 14:26:00|2018-05-18 16:46:31|2018-05-22 00:00:00|             0|               0|      152.77|    1|                1|                1|2018-05-16 20:57:03|    144.0|       8.77|           43.0|               116.0|           1.0|       468.0|         23.0|         18.0|        19.0|          0.0|           1.0|\n",
      "|000f25f4d72195062...|delivered|2018-03-07 10:33:13|2018-03-07 11:10:11|2018-03-16 15:58:31|2018-03-22 16:51:52|2018-04-11 00:00:00|             0|               0|      164.39|    4|                1|                1|2018-03-21 11:10:11|   119.99|       44.4|           46.0|              1159.0|           1.0|      9375.0|         55.0|         54.0|        19.0|          0.0|           0.0|\n",
      "|0015ebb40fb17286b...|delivered|2018-01-14 09:01:36|2018-01-14 09:11:24|2018-01-17 22:56:36|2018-02-01 20:29:51|2018-02-15 00:00:00|             0|               0|        37.0|    5|                1|                1|2018-01-18 09:11:24|     21.9|       15.1|           46.0|              2285.0|           1.0|       150.0|         30.0|         10.0|        20.0|          0.0|           0.0|\n",
      "|001ac194d4a326a6f...|delivered|2018-07-04 11:39:11|2018-07-06 02:51:10|2018-07-06 08:58:00|2018-07-12 17:48:49|2018-07-17 00:00:00|             0|               0|       62.54|    5|                1|                1|2018-07-10 02:51:10|     54.0|       8.54|           58.0|              1178.0|           2.0|       418.0|         19.0|          6.0|        13.0|          0.0|           1.0|\n",
      "|001e7cf2ad6bef3ad...|delivered|2018-05-19 10:29:23|2018-05-19 10:59:50|2018-05-21 14:34:00|2018-06-04 18:08:23|2018-06-05 00:00:00|             0|               1|        51.1|    1|                1|                1|2018-05-22 10:59:50|     35.9|       15.2|           26.0|               394.0|           1.0|      1614.0|         31.0|         16.0|        28.0|          0.0|           1.0|\n",
      "|002175704e8b209f6...|delivered|2018-04-22 12:13:25|2018-04-24 17:24:48|2018-04-23 19:03:19|2018-05-02 20:38:44|2018-05-14 00:00:00|             0|               1|      123.11|    4|                1|                1|2018-04-26 12:30:57|    109.9|      13.21|           38.0|              2887.0|           1.0|       588.0|         19.0|         14.0|        17.0|          0.0|           1.0|\n",
      "|002611a77fe03d076...|delivered|2018-02-27 17:46:23|2018-03-01 02:49:09|2018-03-02 03:12:49|2018-03-22 19:03:31|2018-03-26 00:00:00|             0|               0|      156.75|    4|                1|                1|2018-03-07 02:49:09|    135.0|      21.75|           56.0|               195.0|           1.0|       200.0|         16.0|         15.0|        15.0|          0.0|           0.0|\n",
      "|00276d5c3491fbf55...|delivered|2018-02-13 11:47:21|2018-02-13 12:55:57|2018-02-20 23:19:10|2018-03-16 19:57:52|2018-03-22 00:00:00|             0|               1|       68.12|    4|                1|                1|2018-02-27 11:55:57|     44.9|      23.22|           52.0|              1213.0|           3.0|      2750.0|         70.0|          5.0|        15.0|          0.0|           0.0|\n",
      "|002834535f7a609a5...|delivered|2018-07-23 17:26:00|2018-07-28 23:30:59|2018-07-24 15:53:00|2018-08-11 01:48:33|2018-08-14 00:00:00|             0|               0|       57.17|    5|                1|                1|2018-07-26 17:44:36|    37.99|      19.18|           58.0|               549.0|           3.0|       300.0|         17.0|          4.0|        12.0|          0.0|           0.0|\n",
      "|0028de0ca693a1bb2...|delivered|2018-08-15 14:59:36|2018-08-17 03:35:17|2018-08-17 09:45:00|2018-08-28 18:58:21|2018-09-11 00:00:00|             0|               0|        45.3|    4|                1|                1|2018-08-21 03:35:17|    29.99|      15.31|           55.0|              1548.0|           4.0|      1400.0|         24.0|         15.0|        38.0|          0.0|           0.0|\n",
      "|002f19a65a2ddd70a...|  shipped|2018-03-21 13:05:30|2018-03-21 13:15:27|2018-03-22 00:13:35|               null|2018-04-16 00:00:00|             1|               0|       44.11|    3|                1|                1|2018-03-27 13:15:27|    53.98|      23.31|           52.0|               337.0|           1.0|       800.0|         16.0|         10.0|        16.0|          0.0|           0.0|\n",
      "|0030ff924c3854980...|delivered|2018-03-25 16:52:27|2018-03-25 17:10:21|2018-04-07 01:18:33|2018-04-16 15:39:49|2018-04-20 00:00:00|             0|               1|      292.24|    5|                1|                1|2018-04-06 17:10:21|    225.0|      67.24|           59.0|              1226.0|           4.0|     23250.0|         23.0|         50.0|        84.0|          0.0|           0.0|\n",
      "|00310b0c75bb13015...| canceled|2018-08-15 14:29:08|2018-08-15 15:04:25|               null|               null|2018-08-29 00:00:00|             0|               1|       55.28|    1|                1|                1|2018-08-17 15:04:25|     39.9|      15.38|           58.0|              1245.0|           1.0|       200.0|         16.0|         12.0|        11.0|          0.0|           0.0|\n",
      "|0032d07457ae9c806...|delivered|2018-03-10 18:53:06|2018-03-10 19:48:19|2018-03-13 17:16:42|2018-04-29 21:08:59|2018-04-17 00:00:00|             0|               1|      186.19|    1|                1|                1|2018-03-15 19:28:51|    159.0|      27.19|           48.0|               688.0|           2.0|      3150.0|         43.0|         27.0|        27.0|          0.0|           0.0|\n",
      "|0036757472ece3dde...|delivered|2018-07-19 14:58:59|2018-07-19 15:10:11|2018-08-07 07:45:00|2018-08-09 14:33:40|2018-08-20 00:00:00|             0|               0|      203.03|    2|                1|                1|2018-08-08 15:10:11|   136.99|      66.04|           24.0|               985.0|           1.0|     15475.0|         81.0|          7.0|        83.0|          0.0|           1.0|\n",
      "|003822434f91204da...|delivered|2018-06-13 14:10:54|2018-06-15 02:37:21|2018-06-15 14:48:00|2018-06-19 13:34:35|2018-07-20 00:00:00|             0|               0|      175.16|    5|                1|                1|2018-06-21 02:30:28|     69.0|      18.58|           52.0|              1891.0|           1.0|       250.0|         16.0|         10.0|        11.0|          0.0|           0.0|\n",
      "+--------------------+---------+-------------------+-------------------+-------------------+-------------------+-------------------+--------------+----------------+------------+-----+-----------------+-----------------+-------------------+---------+-----------+---------------+--------------------+--------------+------------+-------------+-------------+------------+-------------+--------------+\n",
      "only showing top 20 rows\n",
      "\n"
     ]
    }
   ],
   "source": [
    "spark.sql(query).show()"
   ]
  },
  {
   "cell_type": "code",
   "execution_count": null,
   "id": "a4cbd6ed",
   "metadata": {},
   "outputs": [],
   "source": []
  }
 ],
 "metadata": {
  "kernelspec": {
   "display_name": "Python 3 (ipykernel)",
   "language": "python",
   "name": "python3"
  },
  "language_info": {
   "codemirror_mode": {
    "name": "ipython",
    "version": 3
   },
   "file_extension": ".py",
   "mimetype": "text/x-python",
   "name": "python",
   "nbconvert_exporter": "python",
   "pygments_lexer": "ipython3",
   "version": "3.8.16"
  }
 },
 "nbformat": 4,
 "nbformat_minor": 5
}
